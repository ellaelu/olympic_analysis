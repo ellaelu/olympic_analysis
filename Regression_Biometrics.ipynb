{
 "cells": [
  {
   "cell_type": "markdown",
   "metadata": {
    "janus": {
     "all_versions_showing": false,
     "cell_hidden": false,
     "current_version": 0,
     "id": "3f21f7565e7e7",
     "named_versions": [],
     "output_hidden": false,
     "show_versions": false,
     "source_hidden": false,
     "versions": []
    }
   },
   "source": [
    "# Data Import"
   ]
  },
  {
   "cell_type": "code",
   "execution_count": 1,
   "metadata": {
    "ExecuteTime": {
     "end_time": "2019-03-07T22:30:02.076647Z",
     "start_time": "2019-03-07T22:30:00.142654Z"
    },
    "janus": {
     "all_versions_showing": false,
     "cell_hidden": false,
     "current_version": 0,
     "id": "a00f9e2e18358",
     "named_versions": [],
     "output_hidden": false,
     "show_versions": false,
     "source_hidden": false,
     "versions": []
    },
    "scrolled": true
   },
   "outputs": [
    {
     "data": {
      "text/html": [
       "<div>\n",
       "<style scoped>\n",
       "    .dataframe tbody tr th:only-of-type {\n",
       "        vertical-align: middle;\n",
       "    }\n",
       "\n",
       "    .dataframe tbody tr th {\n",
       "        vertical-align: top;\n",
       "    }\n",
       "\n",
       "    .dataframe thead th {\n",
       "        text-align: right;\n",
       "    }\n",
       "</style>\n",
       "<table border=\"1\" class=\"dataframe\">\n",
       "  <thead>\n",
       "    <tr style=\"text-align: right;\">\n",
       "      <th></th>\n",
       "      <th>Name</th>\n",
       "      <th>Sex</th>\n",
       "      <th>Age</th>\n",
       "      <th>Height</th>\n",
       "      <th>Weight</th>\n",
       "      <th>Team</th>\n",
       "      <th>NOC</th>\n",
       "      <th>Games</th>\n",
       "      <th>Year</th>\n",
       "      <th>Season</th>\n",
       "      <th>City</th>\n",
       "      <th>Sport</th>\n",
       "      <th>Event</th>\n",
       "      <th>Medal</th>\n",
       "    </tr>\n",
       "    <tr>\n",
       "      <th>ID</th>\n",
       "      <th></th>\n",
       "      <th></th>\n",
       "      <th></th>\n",
       "      <th></th>\n",
       "      <th></th>\n",
       "      <th></th>\n",
       "      <th></th>\n",
       "      <th></th>\n",
       "      <th></th>\n",
       "      <th></th>\n",
       "      <th></th>\n",
       "      <th></th>\n",
       "      <th></th>\n",
       "      <th></th>\n",
       "    </tr>\n",
       "  </thead>\n",
       "  <tbody>\n",
       "    <tr>\n",
       "      <th>8</th>\n",
       "      <td>Cornelia \"Cor\" Aalten (-Strannood)</td>\n",
       "      <td>F</td>\n",
       "      <td>18.0</td>\n",
       "      <td>168.0</td>\n",
       "      <td>NaN</td>\n",
       "      <td>Netherlands</td>\n",
       "      <td>NED</td>\n",
       "      <td>1932 Summer</td>\n",
       "      <td>1932</td>\n",
       "      <td>Summer</td>\n",
       "      <td>Los Angeles</td>\n",
       "      <td>Athletics</td>\n",
       "      <td>Athletics Women's 100 metres</td>\n",
       "      <td>NaN</td>\n",
       "    </tr>\n",
       "    <tr>\n",
       "      <th>8</th>\n",
       "      <td>Cornelia \"Cor\" Aalten (-Strannood)</td>\n",
       "      <td>F</td>\n",
       "      <td>18.0</td>\n",
       "      <td>168.0</td>\n",
       "      <td>NaN</td>\n",
       "      <td>Netherlands</td>\n",
       "      <td>NED</td>\n",
       "      <td>1932 Summer</td>\n",
       "      <td>1932</td>\n",
       "      <td>Summer</td>\n",
       "      <td>Los Angeles</td>\n",
       "      <td>Athletics</td>\n",
       "      <td>Athletics Women's 4 x 100 metres Relay</td>\n",
       "      <td>NaN</td>\n",
       "    </tr>\n",
       "    <tr>\n",
       "      <th>18</th>\n",
       "      <td>Timo Antero Aaltonen</td>\n",
       "      <td>M</td>\n",
       "      <td>31.0</td>\n",
       "      <td>189.0</td>\n",
       "      <td>130.0</td>\n",
       "      <td>Finland</td>\n",
       "      <td>FIN</td>\n",
       "      <td>2000 Summer</td>\n",
       "      <td>2000</td>\n",
       "      <td>Summer</td>\n",
       "      <td>Sydney</td>\n",
       "      <td>Athletics</td>\n",
       "      <td>Athletics Men's Shot Put</td>\n",
       "      <td>NaN</td>\n",
       "    </tr>\n",
       "    <tr>\n",
       "      <th>31</th>\n",
       "      <td>Evald rma (rman-)</td>\n",
       "      <td>M</td>\n",
       "      <td>24.0</td>\n",
       "      <td>174.0</td>\n",
       "      <td>70.0</td>\n",
       "      <td>Estonia</td>\n",
       "      <td>EST</td>\n",
       "      <td>1936 Summer</td>\n",
       "      <td>1936</td>\n",
       "      <td>Summer</td>\n",
       "      <td>Berlin</td>\n",
       "      <td>Athletics</td>\n",
       "      <td>Athletics Men's Pole Vault</td>\n",
       "      <td>NaN</td>\n",
       "    </tr>\n",
       "    <tr>\n",
       "      <th>32</th>\n",
       "      <td>Olav Augunson Aarnes</td>\n",
       "      <td>M</td>\n",
       "      <td>23.0</td>\n",
       "      <td>NaN</td>\n",
       "      <td>NaN</td>\n",
       "      <td>Norway</td>\n",
       "      <td>NOR</td>\n",
       "      <td>1912 Summer</td>\n",
       "      <td>1912</td>\n",
       "      <td>Summer</td>\n",
       "      <td>Stockholm</td>\n",
       "      <td>Athletics</td>\n",
       "      <td>Athletics Men's High Jump</td>\n",
       "      <td>NaN</td>\n",
       "    </tr>\n",
       "    <tr>\n",
       "      <th>34</th>\n",
       "      <td>Jamale (Djamel-) Aarrass (Ahrass-)</td>\n",
       "      <td>M</td>\n",
       "      <td>30.0</td>\n",
       "      <td>187.0</td>\n",
       "      <td>76.0</td>\n",
       "      <td>France</td>\n",
       "      <td>FRA</td>\n",
       "      <td>2012 Summer</td>\n",
       "      <td>2012</td>\n",
       "      <td>Summer</td>\n",
       "      <td>London</td>\n",
       "      <td>Athletics</td>\n",
       "      <td>Athletics Men's 1,500 metres</td>\n",
       "      <td>NaN</td>\n",
       "    </tr>\n",
       "    <tr>\n",
       "      <th>47</th>\n",
       "      <td>Erling Rudolf Aastad</td>\n",
       "      <td>M</td>\n",
       "      <td>22.0</td>\n",
       "      <td>177.0</td>\n",
       "      <td>74.0</td>\n",
       "      <td>Norway</td>\n",
       "      <td>NOR</td>\n",
       "      <td>1920 Summer</td>\n",
       "      <td>1920</td>\n",
       "      <td>Summer</td>\n",
       "      <td>Antwerpen</td>\n",
       "      <td>Athletics</td>\n",
       "      <td>Athletics Men's 4 x 100 metres Relay</td>\n",
       "      <td>NaN</td>\n",
       "    </tr>\n",
       "    <tr>\n",
       "      <th>47</th>\n",
       "      <td>Erling Rudolf Aastad</td>\n",
       "      <td>M</td>\n",
       "      <td>22.0</td>\n",
       "      <td>177.0</td>\n",
       "      <td>74.0</td>\n",
       "      <td>Norway</td>\n",
       "      <td>NOR</td>\n",
       "      <td>1920 Summer</td>\n",
       "      <td>1920</td>\n",
       "      <td>Summer</td>\n",
       "      <td>Antwerpen</td>\n",
       "      <td>Athletics</td>\n",
       "      <td>Athletics Men's Long Jump</td>\n",
       "      <td>NaN</td>\n",
       "    </tr>\n",
       "    <tr>\n",
       "      <th>47</th>\n",
       "      <td>Erling Rudolf Aastad</td>\n",
       "      <td>M</td>\n",
       "      <td>26.0</td>\n",
       "      <td>177.0</td>\n",
       "      <td>74.0</td>\n",
       "      <td>Norway</td>\n",
       "      <td>NOR</td>\n",
       "      <td>1924 Summer</td>\n",
       "      <td>1924</td>\n",
       "      <td>Summer</td>\n",
       "      <td>Paris</td>\n",
       "      <td>Athletics</td>\n",
       "      <td>Athletics Men's Long Jump</td>\n",
       "      <td>NaN</td>\n",
       "    </tr>\n",
       "    <tr>\n",
       "      <th>47</th>\n",
       "      <td>Erling Rudolf Aastad</td>\n",
       "      <td>M</td>\n",
       "      <td>30.0</td>\n",
       "      <td>177.0</td>\n",
       "      <td>74.0</td>\n",
       "      <td>Norway</td>\n",
       "      <td>NOR</td>\n",
       "      <td>1928 Summer</td>\n",
       "      <td>1928</td>\n",
       "      <td>Summer</td>\n",
       "      <td>Amsterdam</td>\n",
       "      <td>Athletics</td>\n",
       "      <td>Athletics Men's Long Jump</td>\n",
       "      <td>NaN</td>\n",
       "    </tr>\n",
       "    <tr>\n",
       "      <th>49</th>\n",
       "      <td>Moonika Aava</td>\n",
       "      <td>F</td>\n",
       "      <td>24.0</td>\n",
       "      <td>168.0</td>\n",
       "      <td>65.0</td>\n",
       "      <td>Estonia</td>\n",
       "      <td>EST</td>\n",
       "      <td>2004 Summer</td>\n",
       "      <td>2004</td>\n",
       "      <td>Summer</td>\n",
       "      <td>Athina</td>\n",
       "      <td>Athletics</td>\n",
       "      <td>Athletics Women's Javelin Throw</td>\n",
       "      <td>NaN</td>\n",
       "    </tr>\n",
       "    <tr>\n",
       "      <th>49</th>\n",
       "      <td>Moonika Aava</td>\n",
       "      <td>F</td>\n",
       "      <td>28.0</td>\n",
       "      <td>168.0</td>\n",
       "      <td>65.0</td>\n",
       "      <td>Estonia</td>\n",
       "      <td>EST</td>\n",
       "      <td>2008 Summer</td>\n",
       "      <td>2008</td>\n",
       "      <td>Summer</td>\n",
       "      <td>Beijing</td>\n",
       "      <td>Athletics</td>\n",
       "      <td>Athletics Women's Javelin Throw</td>\n",
       "      <td>NaN</td>\n",
       "    </tr>\n",
       "    <tr>\n",
       "      <th>52</th>\n",
       "      <td>Patrick Abada</td>\n",
       "      <td>M</td>\n",
       "      <td>22.0</td>\n",
       "      <td>189.0</td>\n",
       "      <td>80.0</td>\n",
       "      <td>France</td>\n",
       "      <td>FRA</td>\n",
       "      <td>1976 Summer</td>\n",
       "      <td>1976</td>\n",
       "      <td>Summer</td>\n",
       "      <td>Montreal</td>\n",
       "      <td>Athletics</td>\n",
       "      <td>Athletics Men's Pole Vault</td>\n",
       "      <td>NaN</td>\n",
       "    </tr>\n",
       "    <tr>\n",
       "      <th>55</th>\n",
       "      <td>Antonio Abadia Beci</td>\n",
       "      <td>M</td>\n",
       "      <td>26.0</td>\n",
       "      <td>170.0</td>\n",
       "      <td>65.0</td>\n",
       "      <td>Spain</td>\n",
       "      <td>ESP</td>\n",
       "      <td>2016 Summer</td>\n",
       "      <td>2016</td>\n",
       "      <td>Summer</td>\n",
       "      <td>Rio de Janeiro</td>\n",
       "      <td>Athletics</td>\n",
       "      <td>Athletics Men's 5,000 metres</td>\n",
       "      <td>NaN</td>\n",
       "    </tr>\n",
       "    <tr>\n",
       "      <th>67</th>\n",
       "      <td>Mariya Vasilyevna Abakumova (-Tarabina)</td>\n",
       "      <td>F</td>\n",
       "      <td>22.0</td>\n",
       "      <td>179.0</td>\n",
       "      <td>80.0</td>\n",
       "      <td>Russia</td>\n",
       "      <td>RUS</td>\n",
       "      <td>2008 Summer</td>\n",
       "      <td>2008</td>\n",
       "      <td>Summer</td>\n",
       "      <td>Beijing</td>\n",
       "      <td>Athletics</td>\n",
       "      <td>Athletics Women's Javelin Throw</td>\n",
       "      <td>Silver</td>\n",
       "    </tr>\n",
       "    <tr>\n",
       "      <th>67</th>\n",
       "      <td>Mariya Vasilyevna Abakumova (-Tarabina)</td>\n",
       "      <td>F</td>\n",
       "      <td>26.0</td>\n",
       "      <td>179.0</td>\n",
       "      <td>80.0</td>\n",
       "      <td>Russia</td>\n",
       "      <td>RUS</td>\n",
       "      <td>2012 Summer</td>\n",
       "      <td>2012</td>\n",
       "      <td>Summer</td>\n",
       "      <td>London</td>\n",
       "      <td>Athletics</td>\n",
       "      <td>Athletics Women's Javelin Throw</td>\n",
       "      <td>NaN</td>\n",
       "    </tr>\n",
       "    <tr>\n",
       "      <th>86</th>\n",
       "      <td>Jos Manuel Abascal Gmez</td>\n",
       "      <td>M</td>\n",
       "      <td>22.0</td>\n",
       "      <td>182.0</td>\n",
       "      <td>67.0</td>\n",
       "      <td>Spain</td>\n",
       "      <td>ESP</td>\n",
       "      <td>1980 Summer</td>\n",
       "      <td>1980</td>\n",
       "      <td>Summer</td>\n",
       "      <td>Moskva</td>\n",
       "      <td>Athletics</td>\n",
       "      <td>Athletics Men's 1,500 metres</td>\n",
       "      <td>NaN</td>\n",
       "    </tr>\n",
       "    <tr>\n",
       "      <th>86</th>\n",
       "      <td>Jos Manuel Abascal Gmez</td>\n",
       "      <td>M</td>\n",
       "      <td>26.0</td>\n",
       "      <td>182.0</td>\n",
       "      <td>67.0</td>\n",
       "      <td>Spain</td>\n",
       "      <td>ESP</td>\n",
       "      <td>1984 Summer</td>\n",
       "      <td>1984</td>\n",
       "      <td>Summer</td>\n",
       "      <td>Los Angeles</td>\n",
       "      <td>Athletics</td>\n",
       "      <td>Athletics Men's 1,500 metres</td>\n",
       "      <td>Bronze</td>\n",
       "    </tr>\n",
       "    <tr>\n",
       "      <th>88</th>\n",
       "      <td>Nunu Dzhansuhivna Abashydze (-Myslaieva)</td>\n",
       "      <td>F</td>\n",
       "      <td>25.0</td>\n",
       "      <td>168.0</td>\n",
       "      <td>105.0</td>\n",
       "      <td>Soviet Union</td>\n",
       "      <td>URS</td>\n",
       "      <td>1980 Summer</td>\n",
       "      <td>1980</td>\n",
       "      <td>Summer</td>\n",
       "      <td>Moskva</td>\n",
       "      <td>Athletics</td>\n",
       "      <td>Athletics Women's Shot Put</td>\n",
       "      <td>NaN</td>\n",
       "    </tr>\n",
       "    <tr>\n",
       "      <th>91</th>\n",
       "      <td>Emanuele Abate</td>\n",
       "      <td>M</td>\n",
       "      <td>27.0</td>\n",
       "      <td>190.0</td>\n",
       "      <td>80.0</td>\n",
       "      <td>Italy</td>\n",
       "      <td>ITA</td>\n",
       "      <td>2012 Summer</td>\n",
       "      <td>2012</td>\n",
       "      <td>Summer</td>\n",
       "      <td>London</td>\n",
       "      <td>Athletics</td>\n",
       "      <td>Athletics Men's 110 metres Hurdles</td>\n",
       "      <td>NaN</td>\n",
       "    </tr>\n",
       "    <tr>\n",
       "      <th>95</th>\n",
       "      <td>Georgia Abatzidou</td>\n",
       "      <td>F</td>\n",
       "      <td>35.0</td>\n",
       "      <td>155.0</td>\n",
       "      <td>43.0</td>\n",
       "      <td>Greece</td>\n",
       "      <td>GRE</td>\n",
       "      <td>2004 Summer</td>\n",
       "      <td>2004</td>\n",
       "      <td>Summer</td>\n",
       "      <td>Athina</td>\n",
       "      <td>Athletics</td>\n",
       "      <td>Athletics Women's Marathon</td>\n",
       "      <td>NaN</td>\n",
       "    </tr>\n",
       "    <tr>\n",
       "      <th>96</th>\n",
       "      <td>Carlos Rodolfo Abaunza Balladares</td>\n",
       "      <td>M</td>\n",
       "      <td>18.0</td>\n",
       "      <td>168.0</td>\n",
       "      <td>60.0</td>\n",
       "      <td>Nicaragua</td>\n",
       "      <td>NCA</td>\n",
       "      <td>2004 Summer</td>\n",
       "      <td>2004</td>\n",
       "      <td>Summer</td>\n",
       "      <td>Athina</td>\n",
       "      <td>Athletics</td>\n",
       "      <td>Athletics Men's 100 metres</td>\n",
       "      <td>NaN</td>\n",
       "    </tr>\n",
       "    <tr>\n",
       "      <th>97</th>\n",
       "      <td>Carlos Alberto Abaunza</td>\n",
       "      <td>M</td>\n",
       "      <td>16.0</td>\n",
       "      <td>180.0</td>\n",
       "      <td>70.0</td>\n",
       "      <td>Nicaragua</td>\n",
       "      <td>NCA</td>\n",
       "      <td>1976 Summer</td>\n",
       "      <td>1976</td>\n",
       "      <td>Summer</td>\n",
       "      <td>Montreal</td>\n",
       "      <td>Athletics</td>\n",
       "      <td>Athletics Men's High Jump</td>\n",
       "      <td>NaN</td>\n",
       "    </tr>\n",
       "    <tr>\n",
       "      <th>104</th>\n",
       "      <td>Gana Abba Kimet</td>\n",
       "      <td>M</td>\n",
       "      <td>26.0</td>\n",
       "      <td>NaN</td>\n",
       "      <td>NaN</td>\n",
       "      <td>Chad</td>\n",
       "      <td>CHA</td>\n",
       "      <td>1972 Summer</td>\n",
       "      <td>1972</td>\n",
       "      <td>Summer</td>\n",
       "      <td>Munich</td>\n",
       "      <td>Athletics</td>\n",
       "      <td>Athletics Men's 100 metres</td>\n",
       "      <td>NaN</td>\n",
       "    </tr>\n",
       "    <tr>\n",
       "      <th>109</th>\n",
       "      <td>Abdul Latif Al-Sayed Abbas Youssef Hashem</td>\n",
       "      <td>M</td>\n",
       "      <td>23.0</td>\n",
       "      <td>176.0</td>\n",
       "      <td>64.0</td>\n",
       "      <td>Kuwait</td>\n",
       "      <td>KUW</td>\n",
       "      <td>1976 Summer</td>\n",
       "      <td>1976</td>\n",
       "      <td>Summer</td>\n",
       "      <td>Montreal</td>\n",
       "      <td>Athletics</td>\n",
       "      <td>Athletics Men's 400 metres Hurdles</td>\n",
       "      <td>NaN</td>\n",
       "    </tr>\n",
       "    <tr>\n",
       "      <th>109</th>\n",
       "      <td>Abdul Latif Al-Sayed Abbas Youssef Hashem</td>\n",
       "      <td>M</td>\n",
       "      <td>23.0</td>\n",
       "      <td>176.0</td>\n",
       "      <td>64.0</td>\n",
       "      <td>Kuwait</td>\n",
       "      <td>KUW</td>\n",
       "      <td>1976 Summer</td>\n",
       "      <td>1976</td>\n",
       "      <td>Summer</td>\n",
       "      <td>Montreal</td>\n",
       "      <td>Athletics</td>\n",
       "      <td>Athletics Men's 4 x 100 metres Relay</td>\n",
       "      <td>NaN</td>\n",
       "    </tr>\n",
       "    <tr>\n",
       "      <th>109</th>\n",
       "      <td>Abdul Latif Al-Sayed Abbas Youssef Hashem</td>\n",
       "      <td>M</td>\n",
       "      <td>27.0</td>\n",
       "      <td>176.0</td>\n",
       "      <td>64.0</td>\n",
       "      <td>Kuwait</td>\n",
       "      <td>KUW</td>\n",
       "      <td>1980 Summer</td>\n",
       "      <td>1980</td>\n",
       "      <td>Summer</td>\n",
       "      <td>Moskva</td>\n",
       "      <td>Athletics</td>\n",
       "      <td>Athletics Men's 400 metres Hurdles</td>\n",
       "      <td>NaN</td>\n",
       "    </tr>\n",
       "    <tr>\n",
       "      <th>110</th>\n",
       "      <td>Abubakar Abbas Abbas</td>\n",
       "      <td>M</td>\n",
       "      <td>20.0</td>\n",
       "      <td>175.0</td>\n",
       "      <td>66.0</td>\n",
       "      <td>Bahrain</td>\n",
       "      <td>BRN</td>\n",
       "      <td>2016 Summer</td>\n",
       "      <td>2016</td>\n",
       "      <td>Summer</td>\n",
       "      <td>Rio de Janeiro</td>\n",
       "      <td>Athletics</td>\n",
       "      <td>Athletics Men's 400 metres</td>\n",
       "      <td>NaN</td>\n",
       "    </tr>\n",
       "    <tr>\n",
       "      <th>111</th>\n",
       "      <td>Aqarab Abbas</td>\n",
       "      <td>M</td>\n",
       "      <td>22.0</td>\n",
       "      <td>190.0</td>\n",
       "      <td>88.0</td>\n",
       "      <td>Pakistan</td>\n",
       "      <td>PAK</td>\n",
       "      <td>1996 Summer</td>\n",
       "      <td>1996</td>\n",
       "      <td>Summer</td>\n",
       "      <td>Atlanta</td>\n",
       "      <td>Athletics</td>\n",
       "      <td>Athletics Men's Hammer Throw</td>\n",
       "      <td>NaN</td>\n",
       "    </tr>\n",
       "    <tr>\n",
       "      <th>114</th>\n",
       "      <td>Essa Abbas Faleh Hashem</td>\n",
       "      <td>M</td>\n",
       "      <td>20.0</td>\n",
       "      <td>160.0</td>\n",
       "      <td>65.0</td>\n",
       "      <td>Kuwait</td>\n",
       "      <td>KUW</td>\n",
       "      <td>1980 Summer</td>\n",
       "      <td>1980</td>\n",
       "      <td>Summer</td>\n",
       "      <td>Moskva</td>\n",
       "      <td>Athletics</td>\n",
       "      <td>Athletics Men's Long Jump</td>\n",
       "      <td>NaN</td>\n",
       "    </tr>\n",
       "    <tr>\n",
       "      <th>...</th>\n",
       "      <td>...</td>\n",
       "      <td>...</td>\n",
       "      <td>...</td>\n",
       "      <td>...</td>\n",
       "      <td>...</td>\n",
       "      <td>...</td>\n",
       "      <td>...</td>\n",
       "      <td>...</td>\n",
       "      <td>...</td>\n",
       "      <td>...</td>\n",
       "      <td>...</td>\n",
       "      <td>...</td>\n",
       "      <td>...</td>\n",
       "      <td>...</td>\n",
       "    </tr>\n",
       "    <tr>\n",
       "      <th>135477</th>\n",
       "      <td>Vaida sinait</td>\n",
       "      <td>F</td>\n",
       "      <td>28.0</td>\n",
       "      <td>167.0</td>\n",
       "      <td>50.0</td>\n",
       "      <td>Lithuania</td>\n",
       "      <td>LTU</td>\n",
       "      <td>2016 Summer</td>\n",
       "      <td>2016</td>\n",
       "      <td>Summer</td>\n",
       "      <td>Rio de Janeiro</td>\n",
       "      <td>Athletics</td>\n",
       "      <td>Athletics Women's Marathon</td>\n",
       "      <td>NaN</td>\n",
       "    </tr>\n",
       "    <tr>\n",
       "      <th>135480</th>\n",
       "      <td>Geeta Zutshi</td>\n",
       "      <td>F</td>\n",
       "      <td>23.0</td>\n",
       "      <td>167.0</td>\n",
       "      <td>51.0</td>\n",
       "      <td>India</td>\n",
       "      <td>IND</td>\n",
       "      <td>1980 Summer</td>\n",
       "      <td>1980</td>\n",
       "      <td>Summer</td>\n",
       "      <td>Moskva</td>\n",
       "      <td>Athletics</td>\n",
       "      <td>Athletics Women's 800 metres</td>\n",
       "      <td>NaN</td>\n",
       "    </tr>\n",
       "    <tr>\n",
       "      <th>135480</th>\n",
       "      <td>Geeta Zutshi</td>\n",
       "      <td>F</td>\n",
       "      <td>27.0</td>\n",
       "      <td>167.0</td>\n",
       "      <td>51.0</td>\n",
       "      <td>India</td>\n",
       "      <td>IND</td>\n",
       "      <td>1984 Summer</td>\n",
       "      <td>1984</td>\n",
       "      <td>Summer</td>\n",
       "      <td>Los Angeles</td>\n",
       "      <td>Athletics</td>\n",
       "      <td>Athletics Women's 3,000 metres</td>\n",
       "      <td>NaN</td>\n",
       "    </tr>\n",
       "    <tr>\n",
       "      <th>135497</th>\n",
       "      <td>Lloyd Zvasiya</td>\n",
       "      <td>M</td>\n",
       "      <td>23.0</td>\n",
       "      <td>190.0</td>\n",
       "      <td>80.0</td>\n",
       "      <td>Zimbabwe</td>\n",
       "      <td>ZIM</td>\n",
       "      <td>2004 Summer</td>\n",
       "      <td>2004</td>\n",
       "      <td>Summer</td>\n",
       "      <td>Athina</td>\n",
       "      <td>Athletics</td>\n",
       "      <td>Athletics Men's 400 metres</td>\n",
       "      <td>NaN</td>\n",
       "    </tr>\n",
       "    <tr>\n",
       "      <th>135501</th>\n",
       "      <td>Ellina Aleksandrovna Zvereva (Kisheyeva-)</td>\n",
       "      <td>F</td>\n",
       "      <td>27.0</td>\n",
       "      <td>183.0</td>\n",
       "      <td>100.0</td>\n",
       "      <td>Soviet Union</td>\n",
       "      <td>URS</td>\n",
       "      <td>1988 Summer</td>\n",
       "      <td>1988</td>\n",
       "      <td>Summer</td>\n",
       "      <td>Seoul</td>\n",
       "      <td>Athletics</td>\n",
       "      <td>Athletics Women's Discus Throw</td>\n",
       "      <td>NaN</td>\n",
       "    </tr>\n",
       "    <tr>\n",
       "      <th>135501</th>\n",
       "      <td>Ellina Aleksandrovna Zvereva (Kisheyeva-)</td>\n",
       "      <td>F</td>\n",
       "      <td>35.0</td>\n",
       "      <td>183.0</td>\n",
       "      <td>100.0</td>\n",
       "      <td>Belarus</td>\n",
       "      <td>BLR</td>\n",
       "      <td>1996 Summer</td>\n",
       "      <td>1996</td>\n",
       "      <td>Summer</td>\n",
       "      <td>Atlanta</td>\n",
       "      <td>Athletics</td>\n",
       "      <td>Athletics Women's Discus Throw</td>\n",
       "      <td>Bronze</td>\n",
       "    </tr>\n",
       "    <tr>\n",
       "      <th>135501</th>\n",
       "      <td>Ellina Aleksandrovna Zvereva (Kisheyeva-)</td>\n",
       "      <td>F</td>\n",
       "      <td>39.0</td>\n",
       "      <td>183.0</td>\n",
       "      <td>100.0</td>\n",
       "      <td>Belarus</td>\n",
       "      <td>BLR</td>\n",
       "      <td>2000 Summer</td>\n",
       "      <td>2000</td>\n",
       "      <td>Summer</td>\n",
       "      <td>Sydney</td>\n",
       "      <td>Athletics</td>\n",
       "      <td>Athletics Women's Discus Throw</td>\n",
       "      <td>Gold</td>\n",
       "    </tr>\n",
       "    <tr>\n",
       "      <th>135501</th>\n",
       "      <td>Ellina Aleksandrovna Zvereva (Kisheyeva-)</td>\n",
       "      <td>F</td>\n",
       "      <td>43.0</td>\n",
       "      <td>183.0</td>\n",
       "      <td>100.0</td>\n",
       "      <td>Belarus</td>\n",
       "      <td>BLR</td>\n",
       "      <td>2004 Summer</td>\n",
       "      <td>2004</td>\n",
       "      <td>Summer</td>\n",
       "      <td>Athina</td>\n",
       "      <td>Athletics</td>\n",
       "      <td>Athletics Women's Discus Throw</td>\n",
       "      <td>NaN</td>\n",
       "    </tr>\n",
       "    <tr>\n",
       "      <th>135501</th>\n",
       "      <td>Ellina Aleksandrovna Zvereva (Kisheyeva-)</td>\n",
       "      <td>F</td>\n",
       "      <td>47.0</td>\n",
       "      <td>183.0</td>\n",
       "      <td>100.0</td>\n",
       "      <td>Belarus</td>\n",
       "      <td>BLR</td>\n",
       "      <td>2008 Summer</td>\n",
       "      <td>2008</td>\n",
       "      <td>Summer</td>\n",
       "      <td>Beijing</td>\n",
       "      <td>Athletics</td>\n",
       "      <td>Athletics Women's Discus Throw</td>\n",
       "      <td>NaN</td>\n",
       "    </tr>\n",
       "    <tr>\n",
       "      <th>135510</th>\n",
       "      <td>Jan Marcus Zwaan</td>\n",
       "      <td>M</td>\n",
       "      <td>22.0</td>\n",
       "      <td>NaN</td>\n",
       "      <td>NaN</td>\n",
       "      <td>Netherlands</td>\n",
       "      <td>NED</td>\n",
       "      <td>1948 Summer</td>\n",
       "      <td>1948</td>\n",
       "      <td>Summer</td>\n",
       "      <td>London</td>\n",
       "      <td>Athletics</td>\n",
       "      <td>Athletics Men's 110 metres Hurdles</td>\n",
       "      <td>NaN</td>\n",
       "    </tr>\n",
       "    <tr>\n",
       "      <th>135511</th>\n",
       "      <td>Johan Gerard \"Jo\" Zwaan</td>\n",
       "      <td>M</td>\n",
       "      <td>25.0</td>\n",
       "      <td>NaN</td>\n",
       "      <td>NaN</td>\n",
       "      <td>Netherlands</td>\n",
       "      <td>NED</td>\n",
       "      <td>1948 Summer</td>\n",
       "      <td>1948</td>\n",
       "      <td>Summer</td>\n",
       "      <td>London</td>\n",
       "      <td>Athletics</td>\n",
       "      <td>Athletics Men's 100 metres</td>\n",
       "      <td>NaN</td>\n",
       "    </tr>\n",
       "    <tr>\n",
       "      <th>135511</th>\n",
       "      <td>Johan Gerard \"Jo\" Zwaan</td>\n",
       "      <td>M</td>\n",
       "      <td>25.0</td>\n",
       "      <td>NaN</td>\n",
       "      <td>NaN</td>\n",
       "      <td>Netherlands</td>\n",
       "      <td>NED</td>\n",
       "      <td>1948 Summer</td>\n",
       "      <td>1948</td>\n",
       "      <td>Summer</td>\n",
       "      <td>London</td>\n",
       "      <td>Athletics</td>\n",
       "      <td>Athletics Men's 4 x 100 metres Relay</td>\n",
       "      <td>NaN</td>\n",
       "    </tr>\n",
       "    <tr>\n",
       "      <th>135529</th>\n",
       "      <td>Vlastimil Zwiefelhofer</td>\n",
       "      <td>M</td>\n",
       "      <td>27.0</td>\n",
       "      <td>170.0</td>\n",
       "      <td>63.0</td>\n",
       "      <td>Czechoslovakia</td>\n",
       "      <td>TCH</td>\n",
       "      <td>1980 Summer</td>\n",
       "      <td>1980</td>\n",
       "      <td>Summer</td>\n",
       "      <td>Moskva</td>\n",
       "      <td>Athletics</td>\n",
       "      <td>Athletics Men's Marathon</td>\n",
       "      <td>NaN</td>\n",
       "    </tr>\n",
       "    <tr>\n",
       "      <th>135531</th>\n",
       "      <td>Sabine Beate Zwiener (-Jauchstetter)</td>\n",
       "      <td>F</td>\n",
       "      <td>24.0</td>\n",
       "      <td>172.0</td>\n",
       "      <td>52.0</td>\n",
       "      <td>Germany</td>\n",
       "      <td>GER</td>\n",
       "      <td>1992 Summer</td>\n",
       "      <td>1992</td>\n",
       "      <td>Summer</td>\n",
       "      <td>Barcelona</td>\n",
       "      <td>Athletics</td>\n",
       "      <td>Athletics Women's 800 metres</td>\n",
       "      <td>NaN</td>\n",
       "    </tr>\n",
       "    <tr>\n",
       "      <th>135533</th>\n",
       "      <td>Petronella Veronica Maria \"Nel\" Zwier</td>\n",
       "      <td>F</td>\n",
       "      <td>23.0</td>\n",
       "      <td>174.0</td>\n",
       "      <td>70.0</td>\n",
       "      <td>Netherlands</td>\n",
       "      <td>NED</td>\n",
       "      <td>1960 Summer</td>\n",
       "      <td>1960</td>\n",
       "      <td>Summer</td>\n",
       "      <td>Roma</td>\n",
       "      <td>Athletics</td>\n",
       "      <td>Athletics Women's High Jump</td>\n",
       "      <td>NaN</td>\n",
       "    </tr>\n",
       "    <tr>\n",
       "      <th>135543</th>\n",
       "      <td>Victor Andrew \"Vic\" Zwolak</td>\n",
       "      <td>M</td>\n",
       "      <td>25.0</td>\n",
       "      <td>175.0</td>\n",
       "      <td>64.0</td>\n",
       "      <td>United States</td>\n",
       "      <td>USA</td>\n",
       "      <td>1964 Summer</td>\n",
       "      <td>1964</td>\n",
       "      <td>Summer</td>\n",
       "      <td>Tokyo</td>\n",
       "      <td>Athletics</td>\n",
       "      <td>Athletics Men's 3,000 metres Steeplechase</td>\n",
       "      <td>NaN</td>\n",
       "    </tr>\n",
       "    <tr>\n",
       "      <th>135544</th>\n",
       "      <td>Krzysztof Zwoliski</td>\n",
       "      <td>M</td>\n",
       "      <td>21.0</td>\n",
       "      <td>175.0</td>\n",
       "      <td>70.0</td>\n",
       "      <td>Poland</td>\n",
       "      <td>POL</td>\n",
       "      <td>1980 Summer</td>\n",
       "      <td>1980</td>\n",
       "      <td>Summer</td>\n",
       "      <td>Moskva</td>\n",
       "      <td>Athletics</td>\n",
       "      <td>Athletics Men's 100 metres</td>\n",
       "      <td>NaN</td>\n",
       "    </tr>\n",
       "    <tr>\n",
       "      <th>135544</th>\n",
       "      <td>Krzysztof Zwoliski</td>\n",
       "      <td>M</td>\n",
       "      <td>21.0</td>\n",
       "      <td>175.0</td>\n",
       "      <td>70.0</td>\n",
       "      <td>Poland</td>\n",
       "      <td>POL</td>\n",
       "      <td>1980 Summer</td>\n",
       "      <td>1980</td>\n",
       "      <td>Summer</td>\n",
       "      <td>Moskva</td>\n",
       "      <td>Athletics</td>\n",
       "      <td>Athletics Men's 4 x 100 metres Relay</td>\n",
       "      <td>Silver</td>\n",
       "    </tr>\n",
       "    <tr>\n",
       "      <th>135547</th>\n",
       "      <td>Viktoriya Viktorovna Zyabkina</td>\n",
       "      <td>F</td>\n",
       "      <td>19.0</td>\n",
       "      <td>174.0</td>\n",
       "      <td>62.0</td>\n",
       "      <td>Kazakhstan</td>\n",
       "      <td>KAZ</td>\n",
       "      <td>2012 Summer</td>\n",
       "      <td>2012</td>\n",
       "      <td>Summer</td>\n",
       "      <td>London</td>\n",
       "      <td>Athletics</td>\n",
       "      <td>Athletics Women's 200 metres</td>\n",
       "      <td>NaN</td>\n",
       "    </tr>\n",
       "    <tr>\n",
       "      <th>135547</th>\n",
       "      <td>Viktoriya Viktorovna Zyabkina</td>\n",
       "      <td>F</td>\n",
       "      <td>23.0</td>\n",
       "      <td>174.0</td>\n",
       "      <td>62.0</td>\n",
       "      <td>Kazakhstan</td>\n",
       "      <td>KAZ</td>\n",
       "      <td>2016 Summer</td>\n",
       "      <td>2016</td>\n",
       "      <td>Summer</td>\n",
       "      <td>Rio de Janeiro</td>\n",
       "      <td>Athletics</td>\n",
       "      <td>Athletics Women's 100 metres</td>\n",
       "      <td>NaN</td>\n",
       "    </tr>\n",
       "    <tr>\n",
       "      <th>135547</th>\n",
       "      <td>Viktoriya Viktorovna Zyabkina</td>\n",
       "      <td>F</td>\n",
       "      <td>23.0</td>\n",
       "      <td>174.0</td>\n",
       "      <td>62.0</td>\n",
       "      <td>Kazakhstan</td>\n",
       "      <td>KAZ</td>\n",
       "      <td>2016 Summer</td>\n",
       "      <td>2016</td>\n",
       "      <td>Summer</td>\n",
       "      <td>Rio de Janeiro</td>\n",
       "      <td>Athletics</td>\n",
       "      <td>Athletics Women's 200 metres</td>\n",
       "      <td>NaN</td>\n",
       "    </tr>\n",
       "    <tr>\n",
       "      <th>135547</th>\n",
       "      <td>Viktoriya Viktorovna Zyabkina</td>\n",
       "      <td>F</td>\n",
       "      <td>23.0</td>\n",
       "      <td>174.0</td>\n",
       "      <td>62.0</td>\n",
       "      <td>Kazakhstan</td>\n",
       "      <td>KAZ</td>\n",
       "      <td>2016 Summer</td>\n",
       "      <td>2016</td>\n",
       "      <td>Summer</td>\n",
       "      <td>Rio de Janeiro</td>\n",
       "      <td>Athletics</td>\n",
       "      <td>Athletics Women's 4 x 100 metres Relay</td>\n",
       "      <td>NaN</td>\n",
       "    </tr>\n",
       "    <tr>\n",
       "      <th>135553</th>\n",
       "      <td>Galina Ivanovna Zybina (-Fyodorova)</td>\n",
       "      <td>F</td>\n",
       "      <td>21.0</td>\n",
       "      <td>168.0</td>\n",
       "      <td>80.0</td>\n",
       "      <td>Soviet Union</td>\n",
       "      <td>URS</td>\n",
       "      <td>1952 Summer</td>\n",
       "      <td>1952</td>\n",
       "      <td>Summer</td>\n",
       "      <td>Helsinki</td>\n",
       "      <td>Athletics</td>\n",
       "      <td>Athletics Women's Shot Put</td>\n",
       "      <td>Gold</td>\n",
       "    </tr>\n",
       "    <tr>\n",
       "      <th>135553</th>\n",
       "      <td>Galina Ivanovna Zybina (-Fyodorova)</td>\n",
       "      <td>F</td>\n",
       "      <td>21.0</td>\n",
       "      <td>168.0</td>\n",
       "      <td>80.0</td>\n",
       "      <td>Soviet Union</td>\n",
       "      <td>URS</td>\n",
       "      <td>1952 Summer</td>\n",
       "      <td>1952</td>\n",
       "      <td>Summer</td>\n",
       "      <td>Helsinki</td>\n",
       "      <td>Athletics</td>\n",
       "      <td>Athletics Women's Javelin Throw</td>\n",
       "      <td>NaN</td>\n",
       "    </tr>\n",
       "    <tr>\n",
       "      <th>135553</th>\n",
       "      <td>Galina Ivanovna Zybina (-Fyodorova)</td>\n",
       "      <td>F</td>\n",
       "      <td>25.0</td>\n",
       "      <td>168.0</td>\n",
       "      <td>80.0</td>\n",
       "      <td>Soviet Union</td>\n",
       "      <td>URS</td>\n",
       "      <td>1956 Summer</td>\n",
       "      <td>1956</td>\n",
       "      <td>Summer</td>\n",
       "      <td>Melbourne</td>\n",
       "      <td>Athletics</td>\n",
       "      <td>Athletics Women's Shot Put</td>\n",
       "      <td>Silver</td>\n",
       "    </tr>\n",
       "    <tr>\n",
       "      <th>135553</th>\n",
       "      <td>Galina Ivanovna Zybina (-Fyodorova)</td>\n",
       "      <td>F</td>\n",
       "      <td>29.0</td>\n",
       "      <td>168.0</td>\n",
       "      <td>80.0</td>\n",
       "      <td>Soviet Union</td>\n",
       "      <td>URS</td>\n",
       "      <td>1960 Summer</td>\n",
       "      <td>1960</td>\n",
       "      <td>Summer</td>\n",
       "      <td>Roma</td>\n",
       "      <td>Athletics</td>\n",
       "      <td>Athletics Women's Shot Put</td>\n",
       "      <td>NaN</td>\n",
       "    </tr>\n",
       "    <tr>\n",
       "      <th>135553</th>\n",
       "      <td>Galina Ivanovna Zybina (-Fyodorova)</td>\n",
       "      <td>F</td>\n",
       "      <td>33.0</td>\n",
       "      <td>168.0</td>\n",
       "      <td>80.0</td>\n",
       "      <td>Soviet Union</td>\n",
       "      <td>URS</td>\n",
       "      <td>1964 Summer</td>\n",
       "      <td>1964</td>\n",
       "      <td>Summer</td>\n",
       "      <td>Tokyo</td>\n",
       "      <td>Athletics</td>\n",
       "      <td>Athletics Women's Shot Put</td>\n",
       "      <td>Bronze</td>\n",
       "    </tr>\n",
       "    <tr>\n",
       "      <th>135561</th>\n",
       "      <td>Frantiek Zyka</td>\n",
       "      <td>M</td>\n",
       "      <td>26.0</td>\n",
       "      <td>NaN</td>\n",
       "      <td>NaN</td>\n",
       "      <td>Czechoslovakia</td>\n",
       "      <td>TCH</td>\n",
       "      <td>1928 Summer</td>\n",
       "      <td>1928</td>\n",
       "      <td>Summer</td>\n",
       "      <td>Amsterdam</td>\n",
       "      <td>Athletics</td>\n",
       "      <td>Athletics Men's Marathon</td>\n",
       "      <td>NaN</td>\n",
       "    </tr>\n",
       "    <tr>\n",
       "      <th>135563</th>\n",
       "      <td>Olesya Nikolayevna Zykina</td>\n",
       "      <td>F</td>\n",
       "      <td>19.0</td>\n",
       "      <td>171.0</td>\n",
       "      <td>64.0</td>\n",
       "      <td>Russia</td>\n",
       "      <td>RUS</td>\n",
       "      <td>2000 Summer</td>\n",
       "      <td>2000</td>\n",
       "      <td>Summer</td>\n",
       "      <td>Sydney</td>\n",
       "      <td>Athletics</td>\n",
       "      <td>Athletics Women's 4 x 400 metres Relay</td>\n",
       "      <td>Bronze</td>\n",
       "    </tr>\n",
       "    <tr>\n",
       "      <th>135563</th>\n",
       "      <td>Olesya Nikolayevna Zykina</td>\n",
       "      <td>F</td>\n",
       "      <td>23.0</td>\n",
       "      <td>171.0</td>\n",
       "      <td>64.0</td>\n",
       "      <td>Russia</td>\n",
       "      <td>RUS</td>\n",
       "      <td>2004 Summer</td>\n",
       "      <td>2004</td>\n",
       "      <td>Summer</td>\n",
       "      <td>Athina</td>\n",
       "      <td>Athletics</td>\n",
       "      <td>Athletics Women's 4 x 400 metres Relay</td>\n",
       "      <td>Silver</td>\n",
       "    </tr>\n",
       "  </tbody>\n",
       "</table>\n",
       "<p>38624 rows × 14 columns</p>\n",
       "</div>"
      ],
      "text/plain": [
       "                                             Name Sex   Age  Height  Weight  \\\n",
       "ID                                                                            \n",
       "8              Cornelia \"Cor\" Aalten (-Strannood)   F  18.0   168.0     NaN   \n",
       "8              Cornelia \"Cor\" Aalten (-Strannood)   F  18.0   168.0     NaN   \n",
       "18                           Timo Antero Aaltonen   M  31.0   189.0   130.0   \n",
       "31                              Evald rma (rman-)   M  24.0   174.0    70.0   \n",
       "32                           Olav Augunson Aarnes   M  23.0     NaN     NaN   \n",
       "34             Jamale (Djamel-) Aarrass (Ahrass-)   M  30.0   187.0    76.0   \n",
       "47                           Erling Rudolf Aastad   M  22.0   177.0    74.0   \n",
       "47                           Erling Rudolf Aastad   M  22.0   177.0    74.0   \n",
       "47                           Erling Rudolf Aastad   M  26.0   177.0    74.0   \n",
       "47                           Erling Rudolf Aastad   M  30.0   177.0    74.0   \n",
       "49                                   Moonika Aava   F  24.0   168.0    65.0   \n",
       "49                                   Moonika Aava   F  28.0   168.0    65.0   \n",
       "52                                  Patrick Abada   M  22.0   189.0    80.0   \n",
       "55                            Antonio Abadia Beci   M  26.0   170.0    65.0   \n",
       "67        Mariya Vasilyevna Abakumova (-Tarabina)   F  22.0   179.0    80.0   \n",
       "67        Mariya Vasilyevna Abakumova (-Tarabina)   F  26.0   179.0    80.0   \n",
       "86                        Jos Manuel Abascal Gmez   M  22.0   182.0    67.0   \n",
       "86                        Jos Manuel Abascal Gmez   M  26.0   182.0    67.0   \n",
       "88       Nunu Dzhansuhivna Abashydze (-Myslaieva)   F  25.0   168.0   105.0   \n",
       "91                                 Emanuele Abate   M  27.0   190.0    80.0   \n",
       "95                              Georgia Abatzidou   F  35.0   155.0    43.0   \n",
       "96              Carlos Rodolfo Abaunza Balladares   M  18.0   168.0    60.0   \n",
       "97                         Carlos Alberto Abaunza   M  16.0   180.0    70.0   \n",
       "104                               Gana Abba Kimet   M  26.0     NaN     NaN   \n",
       "109     Abdul Latif Al-Sayed Abbas Youssef Hashem   M  23.0   176.0    64.0   \n",
       "109     Abdul Latif Al-Sayed Abbas Youssef Hashem   M  23.0   176.0    64.0   \n",
       "109     Abdul Latif Al-Sayed Abbas Youssef Hashem   M  27.0   176.0    64.0   \n",
       "110                          Abubakar Abbas Abbas   M  20.0   175.0    66.0   \n",
       "111                                  Aqarab Abbas   M  22.0   190.0    88.0   \n",
       "114                       Essa Abbas Faleh Hashem   M  20.0   160.0    65.0   \n",
       "...                                           ...  ..   ...     ...     ...   \n",
       "135477                               Vaida sinait   F  28.0   167.0    50.0   \n",
       "135480                               Geeta Zutshi   F  23.0   167.0    51.0   \n",
       "135480                               Geeta Zutshi   F  27.0   167.0    51.0   \n",
       "135497                              Lloyd Zvasiya   M  23.0   190.0    80.0   \n",
       "135501  Ellina Aleksandrovna Zvereva (Kisheyeva-)   F  27.0   183.0   100.0   \n",
       "135501  Ellina Aleksandrovna Zvereva (Kisheyeva-)   F  35.0   183.0   100.0   \n",
       "135501  Ellina Aleksandrovna Zvereva (Kisheyeva-)   F  39.0   183.0   100.0   \n",
       "135501  Ellina Aleksandrovna Zvereva (Kisheyeva-)   F  43.0   183.0   100.0   \n",
       "135501  Ellina Aleksandrovna Zvereva (Kisheyeva-)   F  47.0   183.0   100.0   \n",
       "135510                           Jan Marcus Zwaan   M  22.0     NaN     NaN   \n",
       "135511                    Johan Gerard \"Jo\" Zwaan   M  25.0     NaN     NaN   \n",
       "135511                    Johan Gerard \"Jo\" Zwaan   M  25.0     NaN     NaN   \n",
       "135529                     Vlastimil Zwiefelhofer   M  27.0   170.0    63.0   \n",
       "135531       Sabine Beate Zwiener (-Jauchstetter)   F  24.0   172.0    52.0   \n",
       "135533      Petronella Veronica Maria \"Nel\" Zwier   F  23.0   174.0    70.0   \n",
       "135543                 Victor Andrew \"Vic\" Zwolak   M  25.0   175.0    64.0   \n",
       "135544                         Krzysztof Zwoliski   M  21.0   175.0    70.0   \n",
       "135544                         Krzysztof Zwoliski   M  21.0   175.0    70.0   \n",
       "135547              Viktoriya Viktorovna Zyabkina   F  19.0   174.0    62.0   \n",
       "135547              Viktoriya Viktorovna Zyabkina   F  23.0   174.0    62.0   \n",
       "135547              Viktoriya Viktorovna Zyabkina   F  23.0   174.0    62.0   \n",
       "135547              Viktoriya Viktorovna Zyabkina   F  23.0   174.0    62.0   \n",
       "135553        Galina Ivanovna Zybina (-Fyodorova)   F  21.0   168.0    80.0   \n",
       "135553        Galina Ivanovna Zybina (-Fyodorova)   F  21.0   168.0    80.0   \n",
       "135553        Galina Ivanovna Zybina (-Fyodorova)   F  25.0   168.0    80.0   \n",
       "135553        Galina Ivanovna Zybina (-Fyodorova)   F  29.0   168.0    80.0   \n",
       "135553        Galina Ivanovna Zybina (-Fyodorova)   F  33.0   168.0    80.0   \n",
       "135561                              Frantiek Zyka   M  26.0     NaN     NaN   \n",
       "135563                  Olesya Nikolayevna Zykina   F  19.0   171.0    64.0   \n",
       "135563                  Olesya Nikolayevna Zykina   F  23.0   171.0    64.0   \n",
       "\n",
       "                  Team  NOC        Games  Year  Season            City  \\\n",
       "ID                                                                       \n",
       "8          Netherlands  NED  1932 Summer  1932  Summer     Los Angeles   \n",
       "8          Netherlands  NED  1932 Summer  1932  Summer     Los Angeles   \n",
       "18             Finland  FIN  2000 Summer  2000  Summer          Sydney   \n",
       "31             Estonia  EST  1936 Summer  1936  Summer          Berlin   \n",
       "32              Norway  NOR  1912 Summer  1912  Summer       Stockholm   \n",
       "34              France  FRA  2012 Summer  2012  Summer          London   \n",
       "47              Norway  NOR  1920 Summer  1920  Summer       Antwerpen   \n",
       "47              Norway  NOR  1920 Summer  1920  Summer       Antwerpen   \n",
       "47              Norway  NOR  1924 Summer  1924  Summer           Paris   \n",
       "47              Norway  NOR  1928 Summer  1928  Summer       Amsterdam   \n",
       "49             Estonia  EST  2004 Summer  2004  Summer          Athina   \n",
       "49             Estonia  EST  2008 Summer  2008  Summer         Beijing   \n",
       "52              France  FRA  1976 Summer  1976  Summer        Montreal   \n",
       "55               Spain  ESP  2016 Summer  2016  Summer  Rio de Janeiro   \n",
       "67              Russia  RUS  2008 Summer  2008  Summer         Beijing   \n",
       "67              Russia  RUS  2012 Summer  2012  Summer          London   \n",
       "86               Spain  ESP  1980 Summer  1980  Summer          Moskva   \n",
       "86               Spain  ESP  1984 Summer  1984  Summer     Los Angeles   \n",
       "88        Soviet Union  URS  1980 Summer  1980  Summer          Moskva   \n",
       "91               Italy  ITA  2012 Summer  2012  Summer          London   \n",
       "95              Greece  GRE  2004 Summer  2004  Summer          Athina   \n",
       "96           Nicaragua  NCA  2004 Summer  2004  Summer          Athina   \n",
       "97           Nicaragua  NCA  1976 Summer  1976  Summer        Montreal   \n",
       "104               Chad  CHA  1972 Summer  1972  Summer          Munich   \n",
       "109             Kuwait  KUW  1976 Summer  1976  Summer        Montreal   \n",
       "109             Kuwait  KUW  1976 Summer  1976  Summer        Montreal   \n",
       "109             Kuwait  KUW  1980 Summer  1980  Summer          Moskva   \n",
       "110            Bahrain  BRN  2016 Summer  2016  Summer  Rio de Janeiro   \n",
       "111           Pakistan  PAK  1996 Summer  1996  Summer         Atlanta   \n",
       "114             Kuwait  KUW  1980 Summer  1980  Summer          Moskva   \n",
       "...                ...  ...          ...   ...     ...             ...   \n",
       "135477       Lithuania  LTU  2016 Summer  2016  Summer  Rio de Janeiro   \n",
       "135480           India  IND  1980 Summer  1980  Summer          Moskva   \n",
       "135480           India  IND  1984 Summer  1984  Summer     Los Angeles   \n",
       "135497        Zimbabwe  ZIM  2004 Summer  2004  Summer          Athina   \n",
       "135501    Soviet Union  URS  1988 Summer  1988  Summer           Seoul   \n",
       "135501         Belarus  BLR  1996 Summer  1996  Summer         Atlanta   \n",
       "135501         Belarus  BLR  2000 Summer  2000  Summer          Sydney   \n",
       "135501         Belarus  BLR  2004 Summer  2004  Summer          Athina   \n",
       "135501         Belarus  BLR  2008 Summer  2008  Summer         Beijing   \n",
       "135510     Netherlands  NED  1948 Summer  1948  Summer          London   \n",
       "135511     Netherlands  NED  1948 Summer  1948  Summer          London   \n",
       "135511     Netherlands  NED  1948 Summer  1948  Summer          London   \n",
       "135529  Czechoslovakia  TCH  1980 Summer  1980  Summer          Moskva   \n",
       "135531         Germany  GER  1992 Summer  1992  Summer       Barcelona   \n",
       "135533     Netherlands  NED  1960 Summer  1960  Summer            Roma   \n",
       "135543   United States  USA  1964 Summer  1964  Summer           Tokyo   \n",
       "135544          Poland  POL  1980 Summer  1980  Summer          Moskva   \n",
       "135544          Poland  POL  1980 Summer  1980  Summer          Moskva   \n",
       "135547      Kazakhstan  KAZ  2012 Summer  2012  Summer          London   \n",
       "135547      Kazakhstan  KAZ  2016 Summer  2016  Summer  Rio de Janeiro   \n",
       "135547      Kazakhstan  KAZ  2016 Summer  2016  Summer  Rio de Janeiro   \n",
       "135547      Kazakhstan  KAZ  2016 Summer  2016  Summer  Rio de Janeiro   \n",
       "135553    Soviet Union  URS  1952 Summer  1952  Summer        Helsinki   \n",
       "135553    Soviet Union  URS  1952 Summer  1952  Summer        Helsinki   \n",
       "135553    Soviet Union  URS  1956 Summer  1956  Summer       Melbourne   \n",
       "135553    Soviet Union  URS  1960 Summer  1960  Summer            Roma   \n",
       "135553    Soviet Union  URS  1964 Summer  1964  Summer           Tokyo   \n",
       "135561  Czechoslovakia  TCH  1928 Summer  1928  Summer       Amsterdam   \n",
       "135563          Russia  RUS  2000 Summer  2000  Summer          Sydney   \n",
       "135563          Russia  RUS  2004 Summer  2004  Summer          Athina   \n",
       "\n",
       "            Sport                                      Event   Medal  \n",
       "ID                                                                    \n",
       "8       Athletics               Athletics Women's 100 metres     NaN  \n",
       "8       Athletics     Athletics Women's 4 x 100 metres Relay     NaN  \n",
       "18      Athletics                   Athletics Men's Shot Put     NaN  \n",
       "31      Athletics                 Athletics Men's Pole Vault     NaN  \n",
       "32      Athletics                  Athletics Men's High Jump     NaN  \n",
       "34      Athletics               Athletics Men's 1,500 metres     NaN  \n",
       "47      Athletics       Athletics Men's 4 x 100 metres Relay     NaN  \n",
       "47      Athletics                  Athletics Men's Long Jump     NaN  \n",
       "47      Athletics                  Athletics Men's Long Jump     NaN  \n",
       "47      Athletics                  Athletics Men's Long Jump     NaN  \n",
       "49      Athletics            Athletics Women's Javelin Throw     NaN  \n",
       "49      Athletics            Athletics Women's Javelin Throw     NaN  \n",
       "52      Athletics                 Athletics Men's Pole Vault     NaN  \n",
       "55      Athletics               Athletics Men's 5,000 metres     NaN  \n",
       "67      Athletics            Athletics Women's Javelin Throw  Silver  \n",
       "67      Athletics            Athletics Women's Javelin Throw     NaN  \n",
       "86      Athletics               Athletics Men's 1,500 metres     NaN  \n",
       "86      Athletics               Athletics Men's 1,500 metres  Bronze  \n",
       "88      Athletics                 Athletics Women's Shot Put     NaN  \n",
       "91      Athletics         Athletics Men's 110 metres Hurdles     NaN  \n",
       "95      Athletics                 Athletics Women's Marathon     NaN  \n",
       "96      Athletics                 Athletics Men's 100 metres     NaN  \n",
       "97      Athletics                  Athletics Men's High Jump     NaN  \n",
       "104     Athletics                 Athletics Men's 100 metres     NaN  \n",
       "109     Athletics         Athletics Men's 400 metres Hurdles     NaN  \n",
       "109     Athletics       Athletics Men's 4 x 100 metres Relay     NaN  \n",
       "109     Athletics         Athletics Men's 400 metres Hurdles     NaN  \n",
       "110     Athletics                 Athletics Men's 400 metres     NaN  \n",
       "111     Athletics               Athletics Men's Hammer Throw     NaN  \n",
       "114     Athletics                  Athletics Men's Long Jump     NaN  \n",
       "...           ...                                        ...     ...  \n",
       "135477  Athletics                 Athletics Women's Marathon     NaN  \n",
       "135480  Athletics               Athletics Women's 800 metres     NaN  \n",
       "135480  Athletics             Athletics Women's 3,000 metres     NaN  \n",
       "135497  Athletics                 Athletics Men's 400 metres     NaN  \n",
       "135501  Athletics             Athletics Women's Discus Throw     NaN  \n",
       "135501  Athletics             Athletics Women's Discus Throw  Bronze  \n",
       "135501  Athletics             Athletics Women's Discus Throw    Gold  \n",
       "135501  Athletics             Athletics Women's Discus Throw     NaN  \n",
       "135501  Athletics             Athletics Women's Discus Throw     NaN  \n",
       "135510  Athletics         Athletics Men's 110 metres Hurdles     NaN  \n",
       "135511  Athletics                 Athletics Men's 100 metres     NaN  \n",
       "135511  Athletics       Athletics Men's 4 x 100 metres Relay     NaN  \n",
       "135529  Athletics                   Athletics Men's Marathon     NaN  \n",
       "135531  Athletics               Athletics Women's 800 metres     NaN  \n",
       "135533  Athletics                Athletics Women's High Jump     NaN  \n",
       "135543  Athletics  Athletics Men's 3,000 metres Steeplechase     NaN  \n",
       "135544  Athletics                 Athletics Men's 100 metres     NaN  \n",
       "135544  Athletics       Athletics Men's 4 x 100 metres Relay  Silver  \n",
       "135547  Athletics               Athletics Women's 200 metres     NaN  \n",
       "135547  Athletics               Athletics Women's 100 metres     NaN  \n",
       "135547  Athletics               Athletics Women's 200 metres     NaN  \n",
       "135547  Athletics     Athletics Women's 4 x 100 metres Relay     NaN  \n",
       "135553  Athletics                 Athletics Women's Shot Put    Gold  \n",
       "135553  Athletics            Athletics Women's Javelin Throw     NaN  \n",
       "135553  Athletics                 Athletics Women's Shot Put  Silver  \n",
       "135553  Athletics                 Athletics Women's Shot Put     NaN  \n",
       "135553  Athletics                 Athletics Women's Shot Put  Bronze  \n",
       "135561  Athletics                   Athletics Men's Marathon     NaN  \n",
       "135563  Athletics     Athletics Women's 4 x 400 metres Relay  Bronze  \n",
       "135563  Athletics     Athletics Women's 4 x 400 metres Relay  Silver  \n",
       "\n",
       "[38624 rows x 14 columns]"
      ]
     },
     "execution_count": 1,
     "metadata": {},
     "output_type": "execute_result"
    }
   ],
   "source": [
    "import pandas as pd\n",
    "import datetime as dt\n",
    "import numpy as np\n",
    "import matplotlib.pyplot as plt\n",
    "\n",
    "athlete_data = pd.read_csv('athlete_events.csv', index_col = 0)\n",
    "regional_data = pd.read_csv('noc_regions.csv')\n",
    "track_and_field_results = pd.read_csv('results.csv', names = ('Gender', 'Event', 'Location', 'Year', 'Medal', 'Name', 'Nationality', 'Result'))\n",
    "\n",
    "#We are only using data from Track and Field Events so limiting for that\n",
    "athlete_data = athlete_data[athlete_data['Sport'] == 'Athletics']\n",
    "\n",
    "track_and_field_results.drop(0, axis=0, inplace = True)\n",
    "\n",
    "athlete_data"
   ]
  },
  {
   "cell_type": "markdown",
   "metadata": {
    "janus": {
     "all_versions_showing": false,
     "cell_hidden": false,
     "current_version": 0,
     "id": "934753d20d3bf",
     "named_versions": [],
     "output_hidden": false,
     "show_versions": false,
     "source_hidden": false,
     "versions": []
    }
   },
   "source": [
    "# Data Cleaning\n",
    " - Replace Gold, Silver, Bronze, Other with 1, 2, 3, 4\n",
    " - Replace Male, Female with 1, 2\n",
    " - Replace Summer, Winter with 1, 2\n",
    " - Change Age to int, missing values = -1"
   ]
  },
  {
   "cell_type": "markdown",
   "metadata": {
    "janus": {
     "all_versions_showing": false,
     "cell_hidden": false,
     "current_version": 0,
     "id": "7e26dfa279e21",
     "named_versions": [],
     "output_hidden": false,
     "show_versions": false,
     "source_hidden": false,
     "versions": []
    }
   },
   "source": [
    "## Map Strings to Integers"
   ]
  },
  {
   "cell_type": "code",
   "execution_count": 2,
   "metadata": {
    "ExecuteTime": {
     "end_time": "2019-03-07T22:30:02.146340Z",
     "start_time": "2019-03-07T22:30:02.081071Z"
    },
    "janus": {
     "all_versions_showing": false,
     "cell_hidden": false,
     "current_version": 0,
     "id": "375fd6ad0b897",
     "named_versions": [],
     "output_hidden": false,
     "show_versions": false,
     "source_hidden": false,
     "versions": []
    },
    "scrolled": true
   },
   "outputs": [],
   "source": [
    "#First mapping track and field results file\n",
    "\n",
    "track_and_field_results['Year'] = pd.to_numeric(track_and_field_results['Year'])\n",
    "\n",
    "track_and_field_results['Medal'].replace('G', 1, inplace = True)\n",
    "track_and_field_results['Medal'].replace('S', 2, inplace = True)\n",
    "track_and_field_results['Medal'].replace('B', 3, inplace = True)\n",
    "track_and_field_results['Medal'].replace(np.nan, 4, inplace = True)\n",
    "\n",
    "track_and_field_results['Gender'].replace('M', 1, inplace = True)\n",
    "track_and_field_results['Gender'].replace('W', 2, inplace = True)"
   ]
  },
  {
   "cell_type": "code",
   "execution_count": 3,
   "metadata": {
    "ExecuteTime": {
     "end_time": "2019-03-07T22:30:02.541437Z",
     "start_time": "2019-03-07T22:30:02.157774Z"
    },
    "janus": {
     "all_versions_showing": false,
     "cell_hidden": false,
     "current_version": 0,
     "id": "250552745da93",
     "named_versions": [],
     "output_hidden": false,
     "show_versions": false,
     "source_hidden": false,
     "versions": []
    }
   },
   "outputs": [],
   "source": [
    "#Mapping athlete data\n",
    "\n",
    "athlete_data['Medal'].replace('Gold', 1, inplace = True)\n",
    "athlete_data['Medal'].replace('Silver', 2, inplace = True)\n",
    "athlete_data['Medal'].replace('Bronze', 3, inplace = True)\n",
    "athlete_data['Medal'].replace(np.nan, 4, inplace = True)\n",
    "\n",
    "athlete_data['Sex'].replace('M', 1, inplace = True)\n",
    "athlete_data['Sex'].replace('F', 2, inplace = True)\n",
    "\n",
    "athlete_data['Season'].replace('Summer', 1, inplace = True)\n",
    "athlete_data['Season'].replace('Winter', 2, inplace = True)\n",
    "\n",
    "athlete_data['Age'].replace(np.nan, -1, inplace = True)\n",
    "athlete_data['Age'] = athlete_data['Age'].astype(int)\n",
    "\n",
    "athlete_data.sort_values('Year', ascending = True, inplace = True)"
   ]
  },
  {
   "cell_type": "markdown",
   "metadata": {
    "janus": {
     "all_versions_showing": false,
     "cell_hidden": false,
     "current_version": 0,
     "id": "f4f042bdb45f7",
     "named_versions": [],
     "output_hidden": false,
     "show_versions": false,
     "source_hidden": false,
     "versions": []
    }
   },
   "source": [
    "## Make Data Subsets\n",
    " - Medal wins, No Medals Won\n",
    " - Summer Sports, Winter Sports"
   ]
  },
  {
   "cell_type": "markdown",
   "metadata": {
    "janus": {
     "all_versions_showing": false,
     "cell_hidden": false,
     "current_version": 0,
     "id": "999b3affa0f11",
     "named_versions": [],
     "output_hidden": false,
     "show_versions": false,
     "source_hidden": false,
     "versions": []
    }
   },
   "source": [
    "### By Medal Count"
   ]
  },
  {
   "cell_type": "code",
   "execution_count": 4,
   "metadata": {
    "ExecuteTime": {
     "end_time": "2019-03-07T22:30:02.580815Z",
     "start_time": "2019-03-07T22:30:02.546601Z"
    },
    "janus": {
     "all_versions_showing": false,
     "cell_hidden": false,
     "current_version": 0,
     "id": "3255093c74c6",
     "named_versions": [],
     "output_hidden": false,
     "show_versions": false,
     "source_hidden": false,
     "versions": []
    }
   },
   "outputs": [],
   "source": [
    "# Read athlete_data[athlete_data['Medal'] == 1] as \"athlete_data where athlete_data's medal column equals 1\"\n",
    "medal_wins = athlete_data[athlete_data['Medal'] != 4]\n",
    "non_medal_wins = athlete_data[athlete_data['Medal'] == 4]\n",
    "\n",
    "summer_sports = athlete_data[athlete_data['Season'] == 1]\n",
    "winter_sports = athlete_data[athlete_data['Season'] == 2]"
   ]
  },
  {
   "cell_type": "markdown",
   "metadata": {
    "janus": {
     "all_versions_showing": false,
     "cell_hidden": false,
     "current_version": 0,
     "id": "278bcae732ed9",
     "named_versions": [],
     "output_hidden": false,
     "show_versions": false,
     "source_hidden": false,
     "versions": []
    }
   },
   "source": [
    "## By Athletic Event\n",
    " - 1500m \n",
    " - High jump\n",
    " - Javelin\n",
    " - 100m hurdles 110m hurdles\n",
    " - shotput\n",
    " - 4x100 relay\n"
   ]
  },
  {
   "cell_type": "code",
   "execution_count": 5,
   "metadata": {
    "ExecuteTime": {
     "end_time": "2019-03-07T22:30:02.631320Z",
     "start_time": "2019-03-07T22:30:02.595579Z"
    },
    "janus": {
     "all_versions_showing": false,
     "cell_hidden": false,
     "current_version": 0,
     "id": "4aa3a82f6894a",
     "named_versions": [],
     "output_hidden": false,
     "show_versions": false,
     "source_hidden": false,
     "versions": []
    }
   },
   "outputs": [],
   "source": [
    "mens_100m = track_and_field_results[track_and_field_results['Event'] == '100M Men']\n",
    "\n",
    "womens_100m = track_and_field_results[track_and_field_results['Event'] == '100M Women']\n",
    "\n",
    "mens_1500m = track_and_field_results[track_and_field_results['Event'] == '1500M Men']\n",
    "\n",
    "womens_1500m = track_and_field_results[track_and_field_results['Event'] == '1500M Women']\n",
    "\n",
    "mens_relay = track_and_field_results[track_and_field_results['Event'] == '4X100M Relay Men']\n",
    "\n",
    "womens_relay = track_and_field_results[track_and_field_results['Event'] == '4X100M Relay Women']\n",
    "\n",
    "mens_high_jump = track_and_field_results[track_and_field_results['Event'] == 'High Jump Men']\n",
    "\n",
    "womens_high_jump = track_and_field_results[track_and_field_results['Event'] == 'High Jump Women']\n",
    "\n",
    "mens_javelin = track_and_field_results[track_and_field_results['Event'] == 'Javelin Throw Men']\n",
    "\n",
    "womens_javelin = track_and_field_results[track_and_field_results['Event'] == 'Javelin Throw Women']\n",
    "\n",
    "mens_shot_put = track_and_field_results[track_and_field_results['Event'] == 'Shot Put Men']\n",
    "\n",
    "womens_shot_put = track_and_field_results[track_and_field_results['Event'] == 'Shot Put Men']"
   ]
  },
  {
   "cell_type": "markdown",
   "metadata": {
    "janus": {
     "all_versions_showing": false,
     "cell_hidden": false,
     "current_version": 0,
     "id": "6409d55cbefd7",
     "named_versions": [],
     "output_hidden": false,
     "show_versions": false,
     "source_hidden": false,
     "versions": []
    }
   },
   "source": [
    "# Run Regression on Gold Medal Winning Attempts"
   ]
  },
  {
   "cell_type": "markdown",
   "metadata": {
    "janus": {
     "all_versions_showing": false,
     "cell_hidden": false,
     "current_version": 0,
     "id": "e320bd3b9ef07",
     "named_versions": [],
     "output_hidden": false,
     "show_versions": false,
     "source_hidden": false,
     "versions": []
    }
   },
   "source": [
    "## Mens 100M Dash"
   ]
  },
  {
   "cell_type": "code",
   "execution_count": 6,
   "metadata": {
    "ExecuteTime": {
     "end_time": "2019-03-07T22:30:02.745366Z",
     "start_time": "2019-03-07T22:30:02.638033Z"
    },
    "janus": {
     "all_versions_showing": false,
     "cell_hidden": false,
     "current_version": 0,
     "id": "9a44d52e9050f",
     "named_versions": [],
     "output_hidden": false,
     "show_versions": false,
     "source_hidden": false,
     "versions": []
    },
    "scrolled": true
   },
   "outputs": [
    {
     "name": "stdout",
     "output_type": "stream",
     "text": [
      "Slope:  -0.012597246503496584 , Intercept:  34.982566045066186\n"
     ]
    },
    {
     "name": "stderr",
     "output_type": "stream",
     "text": [
      "/anaconda3/lib/python3.6/site-packages/ipykernel_launcher.py:3: SettingWithCopyWarning: \n",
      "A value is trying to be set on a copy of a slice from a DataFrame.\n",
      "Try using .loc[row_indexer,col_indexer] = value instead\n",
      "\n",
      "See the caveats in the documentation: http://pandas.pydata.org/pandas-docs/stable/indexing.html#indexing-view-versus-copy\n",
      "  This is separate from the ipykernel package so we can avoid doing imports until\n"
     ]
    }
   ],
   "source": [
    "mens_100m_gold = mens_100m[mens_100m['Medal'] == 1]\n",
    "\n",
    "mens_100m_gold['Result'] = pd.to_numeric(mens_100m_gold['Result'])\n",
    "\n",
    "\n",
    "mens_100m_slope, mens_100m_intercept = np.polyfit( mens_100m_gold['Year'], mens_100m_gold['Result'], 1)\n",
    "print('Slope: ', mens_100m_slope, \", Intercept: \", mens_100m_intercept)"
   ]
  },
  {
   "cell_type": "markdown",
   "metadata": {
    "janus": {
     "all_versions_showing": false,
     "cell_hidden": false,
     "current_version": 0,
     "id": "e320bd3b9ef07",
     "named_versions": [],
     "output_hidden": false,
     "show_versions": false,
     "source_hidden": false,
     "versions": []
    }
   },
   "source": [
    "## Womens 100M Dash"
   ]
  },
  {
   "cell_type": "code",
   "execution_count": 7,
   "metadata": {
    "ExecuteTime": {
     "end_time": "2019-03-07T22:30:02.841051Z",
     "start_time": "2019-03-07T22:30:02.756113Z"
    },
    "janus": {
     "all_versions_showing": false,
     "cell_hidden": false,
     "current_version": 0,
     "id": "04138bf8bc706",
     "named_versions": [],
     "output_hidden": false,
     "show_versions": false,
     "source_hidden": false,
     "versions": []
    }
   },
   "outputs": [
    {
     "name": "stdout",
     "output_type": "stream",
     "text": [
      "Slope:  -0.014290271636133951 , Intercept:  39.40350221099184\n"
     ]
    },
    {
     "name": "stderr",
     "output_type": "stream",
     "text": [
      "/anaconda3/lib/python3.6/site-packages/ipykernel_launcher.py:3: SettingWithCopyWarning: \n",
      "A value is trying to be set on a copy of a slice from a DataFrame.\n",
      "Try using .loc[row_indexer,col_indexer] = value instead\n",
      "\n",
      "See the caveats in the documentation: http://pandas.pydata.org/pandas-docs/stable/indexing.html#indexing-view-versus-copy\n",
      "  This is separate from the ipykernel package so we can avoid doing imports until\n"
     ]
    }
   ],
   "source": [
    "womens_100m_gold = womens_100m[womens_100m['Medal'] == 1]\n",
    "\n",
    "womens_100m_gold['Result'] = pd.to_numeric(womens_100m_gold['Result'])\n",
    "\n",
    "\n",
    "womens_100m_slope, womens_100m_intercept = np.polyfit( womens_100m_gold['Year'], womens_100m_gold['Result'], 1)\n",
    "print('Slope: ', womens_100m_slope, \", Intercept: \", womens_100m_intercept)"
   ]
  },
  {
   "cell_type": "markdown",
   "metadata": {
    "janus": {
     "all_versions_showing": false,
     "cell_hidden": false,
     "current_version": 0,
     "id": "d6627d4a80226",
     "named_versions": [],
     "output_hidden": false,
     "show_versions": false,
     "source_hidden": false,
     "versions": []
    }
   },
   "source": [
    "## Mens Mile"
   ]
  },
  {
   "cell_type": "code",
   "execution_count": 8,
   "metadata": {
    "ExecuteTime": {
     "end_time": "2019-03-07T22:30:03.080146Z",
     "start_time": "2019-03-07T22:30:02.860318Z"
    },
    "janus": {
     "all_versions_showing": false,
     "cell_hidden": false,
     "current_version": 0,
     "id": "f8a968ab0f88d",
     "named_versions": [],
     "output_hidden": false,
     "show_versions": false,
     "source_hidden": false,
     "versions": []
    }
   },
   "outputs": [
    {
     "name": "stderr",
     "output_type": "stream",
     "text": [
      "/anaconda3/lib/python3.6/site-packages/ipykernel_launcher.py:3: SettingWithCopyWarning: \n",
      "A value is trying to be set on a copy of a slice from a DataFrame.\n",
      "Try using .loc[row_indexer,col_indexer] = value instead\n",
      "\n",
      "See the caveats in the documentation: http://pandas.pydata.org/pandas-docs/stable/indexing.html#indexing-view-versus-copy\n",
      "  This is separate from the ipykernel package so we can avoid doing imports until\n"
     ]
    },
    {
     "name": "stdout",
     "output_type": "stream",
     "text": [
      "Slope:  -0.3141298805361336 , Intercept:  841.6409602434657\n"
     ]
    },
    {
     "name": "stderr",
     "output_type": "stream",
     "text": [
      "/anaconda3/lib/python3.6/site-packages/ipykernel_launcher.py:4: SettingWithCopyWarning: \n",
      "A value is trying to be set on a copy of a slice from a DataFrame.\n",
      "Try using .loc[row_indexer,col_indexer] = value instead\n",
      "\n",
      "See the caveats in the documentation: http://pandas.pydata.org/pandas-docs/stable/indexing.html#indexing-view-versus-copy\n",
      "  after removing the cwd from sys.path.\n",
      "/anaconda3/lib/python3.6/site-packages/ipykernel_launcher.py:6: SettingWithCopyWarning: \n",
      "A value is trying to be set on a copy of a slice from a DataFrame.\n",
      "Try using .loc[row_indexer,col_indexer] = value instead\n",
      "\n",
      "See the caveats in the documentation: http://pandas.pydata.org/pandas-docs/stable/indexing.html#indexing-view-versus-copy\n",
      "  \n"
     ]
    }
   ],
   "source": [
    "mens_1500m_gold = mens_1500m[mens_1500m['Medal'] == 1]\n",
    "\n",
    "mens_1500m_gold['Result'] = (pd.to_datetime(mens_1500m_gold['Result'], format = \"%M:%S.%f\") - pd.to_datetime('1900-01-01'))\n",
    "mens_1500m_gold['Result'] = mens_1500m_gold['Result'].apply(lambda x: pd.Timedelta.total_seconds(x))\n",
    "\n",
    "mens_1500m_gold['Result'] = pd.to_numeric(mens_1500m_gold['Result'])\n",
    "\n",
    "mens_1500m_slope, mens_1500m_intercept = np.polyfit( mens_1500m_gold['Year'], mens_1500m_gold['Result'], 1)\n",
    "print('Slope: ', mens_1500m_slope, \", Intercept: \", mens_1500m_intercept)"
   ]
  },
  {
   "cell_type": "markdown",
   "metadata": {
    "janus": {
     "all_versions_showing": false,
     "cell_hidden": false,
     "current_version": 0,
     "id": "a4f75e6888e41",
     "named_versions": [],
     "output_hidden": false,
     "show_versions": false,
     "source_hidden": false,
     "versions": []
    }
   },
   "source": [
    "## Womens Mile"
   ]
  },
  {
   "cell_type": "code",
   "execution_count": 9,
   "metadata": {
    "ExecuteTime": {
     "end_time": "2019-03-07T22:30:03.257431Z",
     "start_time": "2019-03-07T22:30:03.093199Z"
    },
    "janus": {
     "all_versions_showing": false,
     "cell_hidden": false,
     "current_version": 0,
     "id": "a5a587977b6dd",
     "named_versions": [],
     "output_hidden": false,
     "show_versions": false,
     "source_hidden": false,
     "versions": []
    }
   },
   "outputs": [
    {
     "name": "stderr",
     "output_type": "stream",
     "text": [
      "/anaconda3/lib/python3.6/site-packages/ipykernel_launcher.py:3: SettingWithCopyWarning: \n",
      "A value is trying to be set on a copy of a slice from a DataFrame.\n",
      "Try using .loc[row_indexer,col_indexer] = value instead\n",
      "\n",
      "See the caveats in the documentation: http://pandas.pydata.org/pandas-docs/stable/indexing.html#indexing-view-versus-copy\n",
      "  This is separate from the ipykernel package so we can avoid doing imports until\n",
      "/anaconda3/lib/python3.6/site-packages/ipykernel_launcher.py:4: SettingWithCopyWarning: \n",
      "A value is trying to be set on a copy of a slice from a DataFrame.\n",
      "Try using .loc[row_indexer,col_indexer] = value instead\n",
      "\n",
      "See the caveats in the documentation: http://pandas.pydata.org/pandas-docs/stable/indexing.html#indexing-view-versus-copy\n",
      "  after removing the cwd from sys.path.\n",
      "/anaconda3/lib/python3.6/site-packages/ipykernel_launcher.py:6: SettingWithCopyWarning: \n",
      "A value is trying to be set on a copy of a slice from a DataFrame.\n",
      "Try using .loc[row_indexer,col_indexer] = value instead\n",
      "\n",
      "See the caveats in the documentation: http://pandas.pydata.org/pandas-docs/stable/indexing.html#indexing-view-versus-copy\n",
      "  \n"
     ]
    },
    {
     "name": "stdout",
     "output_type": "stream",
     "text": [
      "Slope:  0.06490802675585255 , Intercept:  112.15028428093693\n"
     ]
    }
   ],
   "source": [
    "womens_1500m_gold = womens_1500m[womens_1500m['Medal'] == 1]\n",
    "\n",
    "womens_1500m_gold['Result'] = (pd.to_datetime(womens_1500m_gold['Result'], format = \"%M:%S.%f\") - pd.to_datetime('1900-01-01'))\n",
    "womens_1500m_gold['Result'] = womens_1500m_gold['Result'].apply(lambda x: pd.Timedelta.total_seconds(x))\n",
    "\n",
    "womens_1500m_gold['Result'] = pd.to_numeric(womens_1500m_gold['Result'])\n",
    "\n",
    "womens_1500m_slope, womens_1500m_intercept = np.polyfit( womens_1500m_gold['Year'], womens_1500m_gold['Result'], 1)\n",
    "print('Slope: ', womens_1500m_slope, \", Intercept: \", womens_1500m_intercept)"
   ]
  },
  {
   "cell_type": "markdown",
   "metadata": {
    "janus": {
     "all_versions_showing": false,
     "cell_hidden": false,
     "current_version": 0,
     "id": "b6272b6bac7db",
     "named_versions": [],
     "output_hidden": false,
     "show_versions": false,
     "source_hidden": false,
     "versions": []
    }
   },
   "source": [
    "## Mens 4x100 Relay"
   ]
  },
  {
   "cell_type": "code",
   "execution_count": 10,
   "metadata": {
    "ExecuteTime": {
     "end_time": "2019-03-07T22:30:03.330048Z",
     "start_time": "2019-03-07T22:30:03.261065Z"
    },
    "janus": {
     "all_versions_showing": false,
     "cell_hidden": false,
     "current_version": 0,
     "id": "c3641c6aec05b",
     "named_versions": [],
     "output_hidden": false,
     "show_versions": false,
     "source_hidden": false,
     "versions": []
    }
   },
   "outputs": [
    {
     "name": "stdout",
     "output_type": "stream",
     "text": [
      "Slope:  -0.048671529462120305 , Intercept:  134.77079825938117\n"
     ]
    }
   ],
   "source": [
    "mens_relay = mens_relay[mens_relay['Medal'] == 1]\n",
    "mens_relay['Result'] = mens_relay['Result'].str.replace('0:', '')\n",
    "\n",
    "mens_relay['Result'] = (pd.to_datetime(mens_relay['Result'], format = \"%S.%f\") - pd.to_datetime('1900-01-01'))\n",
    "mens_relay['Result'] = mens_relay['Result'].apply(lambda x: pd.Timedelta.total_seconds(x))\n",
    "\n",
    "mens_relay_slope, mens_relay_intercept = np.polyfit( mens_relay['Year'], mens_relay['Result'], 1)\n",
    "print('Slope: ', mens_relay_slope, \", Intercept: \", mens_relay_intercept)"
   ]
  },
  {
   "cell_type": "markdown",
   "metadata": {
    "janus": {
     "all_versions_showing": false,
     "cell_hidden": false,
     "current_version": 0,
     "id": "d05c164d18f7c",
     "named_versions": [],
     "output_hidden": false,
     "show_versions": false,
     "source_hidden": false,
     "versions": []
    }
   },
   "source": [
    "## Womens 4x100 Relay"
   ]
  },
  {
   "cell_type": "code",
   "execution_count": 11,
   "metadata": {
    "ExecuteTime": {
     "end_time": "2019-03-07T22:30:03.406840Z",
     "start_time": "2019-03-07T22:30:03.343946Z"
    },
    "janus": {
     "all_versions_showing": false,
     "cell_hidden": false,
     "current_version": 0,
     "id": "a00be1ccfcdf1",
     "named_versions": [],
     "output_hidden": false,
     "show_versions": false,
     "source_hidden": false,
     "versions": []
    }
   },
   "outputs": [
    {
     "name": "stdout",
     "output_type": "stream",
     "text": [
      "Slope:  -0.07907833970009617 , Intercept:  199.7074582359299\n"
     ]
    }
   ],
   "source": [
    "womens_relay = womens_relay[womens_relay['Medal'] == 1]\n",
    "\n",
    "womens_relay['Result'] = (pd.to_datetime(womens_relay['Result'], format = \"%S.%f\") - pd.to_datetime('1900-01-01'))\n",
    "womens_relay['Result'] = womens_relay['Result'].apply(lambda x: pd.Timedelta.total_seconds(x))\n",
    "\n",
    "womens_relay_slope, womens_relay_intercept = np.polyfit( womens_relay['Year'], womens_relay['Result'], 1)\n",
    "print('Slope: ', womens_relay_slope, \", Intercept: \", womens_relay_intercept)"
   ]
  },
  {
   "cell_type": "markdown",
   "metadata": {
    "janus": {
     "all_versions_showing": false,
     "cell_hidden": false,
     "current_version": 0,
     "id": "852563f9919aa",
     "named_versions": [],
     "output_hidden": false,
     "show_versions": false,
     "source_hidden": false,
     "versions": []
    }
   },
   "source": [
    "## Mens High Jump"
   ]
  },
  {
   "cell_type": "code",
   "execution_count": 12,
   "metadata": {
    "ExecuteTime": {
     "end_time": "2019-03-07T22:30:03.478789Z",
     "start_time": "2019-03-07T22:30:03.413913Z"
    },
    "janus": {
     "all_versions_showing": false,
     "cell_hidden": false,
     "current_version": 0,
     "id": "b4d63fe0bc0bd",
     "named_versions": [],
     "output_hidden": false,
     "show_versions": false,
     "source_hidden": false,
     "versions": []
    }
   },
   "outputs": [
    {
     "name": "stdout",
     "output_type": "stream",
     "text": [
      "Slope:  0.005045386559389362 , Intercept:  -7.738421785548537\n"
     ]
    }
   ],
   "source": [
    "mens_high_jump = mens_high_jump[mens_high_jump['Medal'] == 1]\n",
    "mens_high_jump['Result'] = pd.to_numeric(mens_high_jump['Result'])\n",
    "\n",
    "mens_high_jump_slope, mens_high_jump_intercept = np.polyfit( mens_high_jump['Year'], mens_high_jump['Result'], 1)\n",
    "print('Slope: ', mens_high_jump_slope, \", Intercept: \", mens_high_jump_intercept)"
   ]
  },
  {
   "cell_type": "markdown",
   "metadata": {
    "janus": {
     "all_versions_showing": false,
     "cell_hidden": false,
     "current_version": 0,
     "id": "4798f4104837b",
     "named_versions": [],
     "output_hidden": false,
     "show_versions": false,
     "source_hidden": false,
     "versions": []
    }
   },
   "source": [
    "## Womens High Jump"
   ]
  },
  {
   "cell_type": "code",
   "execution_count": 13,
   "metadata": {
    "ExecuteTime": {
     "end_time": "2019-03-07T22:30:03.541368Z",
     "start_time": "2019-03-07T22:30:03.481276Z"
    },
    "janus": {
     "all_versions_showing": false,
     "cell_hidden": false,
     "current_version": 0,
     "id": "181d6458f77ed",
     "named_versions": [],
     "output_hidden": false,
     "show_versions": false,
     "source_hidden": false,
     "versions": []
    }
   },
   "outputs": [
    {
     "name": "stdout",
     "output_type": "stream",
     "text": [
      "Slope:  0.00545584862385327 , Intercept:  -8.896517584097975\n"
     ]
    }
   ],
   "source": [
    "womens_high_jump = womens_high_jump[womens_high_jump['Medal'] == 1]\n",
    "womens_high_jump.at[2166, 'Result'] = 1.97\n",
    "womens_high_jump['Result'] = pd.to_numeric(womens_high_jump['Result'])\n",
    "\n",
    "womens_high_jump_slope, womens_high_jump_intercept = np.polyfit( womens_high_jump['Year'], womens_high_jump['Result'], 1)\n",
    "print('Slope: ', womens_high_jump_slope, \", Intercept: \", womens_high_jump_intercept)"
   ]
  },
  {
   "cell_type": "markdown",
   "metadata": {
    "janus": {
     "all_versions_showing": false,
     "cell_hidden": false,
     "current_version": 0,
     "id": "d6e94b2f70cf3",
     "named_versions": [],
     "output_hidden": false,
     "show_versions": false,
     "source_hidden": false,
     "versions": []
    }
   },
   "source": [
    "## Mens Javelin"
   ]
  },
  {
   "cell_type": "code",
   "execution_count": 14,
   "metadata": {
    "ExecuteTime": {
     "end_time": "2019-03-07T22:30:03.598609Z",
     "start_time": "2019-03-07T22:30:03.544216Z"
    },
    "janus": {
     "all_versions_showing": false,
     "cell_hidden": false,
     "current_version": 0,
     "id": "b4d63fe0bc0bd",
     "named_versions": [],
     "output_hidden": false,
     "show_versions": false,
     "source_hidden": false,
     "versions": []
    },
    "scrolled": true
   },
   "outputs": [
    {
     "name": "stdout",
     "output_type": "stream",
     "text": [
      "Slope:  0.3024389671361496 , Intercept:  -514.8855399061022\n"
     ]
    }
   ],
   "source": [
    "mens_javelin = mens_javelin[mens_javelin['Medal'] == 1]\n",
    "mens_javelin.at[1263, 'Result'] = 90.30\n",
    "mens_javelin['Result'] = pd.to_numeric(mens_javelin['Result'])\n",
    "\n",
    "mens_javelin_slope, mens_javelin_intercept = np.polyfit( mens_javelin['Year'], mens_javelin['Result'], 1)\n",
    "print('Slope: ', mens_javelin_slope, \", Intercept: \", mens_javelin_intercept)"
   ]
  },
  {
   "cell_type": "markdown",
   "metadata": {
    "janus": {
     "all_versions_showing": false,
     "cell_hidden": false,
     "current_version": 0,
     "id": "3c194c6818d0e",
     "named_versions": [],
     "output_hidden": false,
     "show_versions": false,
     "source_hidden": false,
     "versions": []
    }
   },
   "source": [
    "## Womens Javelin"
   ]
  },
  {
   "cell_type": "code",
   "execution_count": 15,
   "metadata": {
    "ExecuteTime": {
     "end_time": "2019-03-07T22:30:03.659926Z",
     "start_time": "2019-03-07T22:30:03.608777Z"
    },
    "janus": {
     "all_versions_showing": false,
     "cell_hidden": false,
     "current_version": 0,
     "id": "181d6458f77ed",
     "named_versions": [],
     "output_hidden": false,
     "show_versions": false,
     "source_hidden": false,
     "versions": []
    },
    "scrolled": true
   },
   "outputs": [
    {
     "name": "stdout",
     "output_type": "stream",
     "text": [
      "Slope:  0.3336552083333353 , Intercept:  -598.3696166666704\n"
     ]
    }
   ],
   "source": [
    "womens_javelin = womens_javelin[womens_javelin['Medal'] == 1]\n",
    "\n",
    "womens_javelin['Result'] = pd.to_numeric(womens_javelin['Result'])\n",
    "\n",
    "womens_javelin_slope, womens_javelin_intercept = np.polyfit( womens_javelin['Year'], womens_javelin['Result'], 1)\n",
    "print('Slope: ', womens_javelin_slope, \", Intercept: \", womens_javelin_intercept)"
   ]
  },
  {
   "cell_type": "code",
   "execution_count": 16,
   "metadata": {
    "ExecuteTime": {
     "end_time": "2019-03-07T22:30:03.747914Z",
     "start_time": "2019-03-07T22:30:03.666641Z"
    },
    "janus": {
     "all_versions_showing": false,
     "cell_hidden": false,
     "current_version": 0,
     "id": "4396c4a1b2fd5",
     "named_versions": [],
     "output_hidden": false,
     "show_versions": false,
     "source_hidden": false,
     "versions": []
    }
   },
   "outputs": [
    {
     "name": "stdout",
     "output_type": "stream",
     "text": [
      "Slope:  0.08021636049147125 , Intercept:  -138.71410020279208\n"
     ]
    }
   ],
   "source": [
    "mens_shot_put = mens_shot_put[mens_shot_put['Medal'] == 1]\n",
    "\n",
    "mens_shot_put['Result'] = pd.to_numeric(mens_shot_put['Result'])\n",
    "\n",
    "mens_shot_put_slope, mens_shot_put_intercept = np.polyfit( mens_shot_put['Year'], mens_shot_put['Result'], 1)\n",
    "print('Slope: ', mens_shot_put_slope, \", Intercept: \", mens_shot_put_intercept)"
   ]
  },
  {
   "cell_type": "code",
   "execution_count": 17,
   "metadata": {
    "ExecuteTime": {
     "end_time": "2019-03-07T22:30:03.847283Z",
     "start_time": "2019-03-07T22:30:03.767680Z"
    },
    "janus": {
     "all_versions_showing": false,
     "cell_hidden": false,
     "current_version": 0,
     "id": "b3873451cfa",
     "named_versions": [],
     "output_hidden": false,
     "show_versions": false,
     "source_hidden": false,
     "versions": []
    }
   },
   "outputs": [
    {
     "name": "stdout",
     "output_type": "stream",
     "text": [
      "Slope:  0.08021636049147125 , Intercept:  -138.71410020279208\n"
     ]
    }
   ],
   "source": [
    "womens_shot_put = womens_shot_put[womens_shot_put['Medal'] == 1]\n",
    "\n",
    "womens_shot_put['Result'] = pd.to_numeric(womens_shot_put['Result'])\n",
    "\n",
    "womens_shot_put_slope, womens_shot_put_intercept = np.polyfit( womens_shot_put['Year'], womens_shot_put['Result'], 1)\n",
    "print('Slope: ', womens_shot_put_slope, \", Intercept: \", womens_shot_put_intercept)"
   ]
  },
  {
   "cell_type": "markdown",
   "metadata": {},
   "source": [
    "# Biometrics\n",
    "- Men and Womens Shot Put\n",
    "- Men and Womens 110/100 meter dash"
   ]
  },
  {
   "cell_type": "markdown",
   "metadata": {},
   "source": [
    "Men and Women's Shot Put:"
   ]
  },
  {
   "cell_type": "markdown",
   "metadata": {},
   "source": [
    "Mens:"
   ]
  },
  {
   "cell_type": "code",
   "execution_count": 26,
   "metadata": {
    "scrolled": true
   },
   "outputs": [],
   "source": [
    "M_shotput_data_biometrics = athlete_data[(athlete_data['Event'] == 'Athletics Men\\'s Shot Put') & \n",
    "                                       (athlete_data['Medal'] == 1)][['Age', 'Height', 'Weight','Event','Year']]\n",
    "W_shotput_data_biometrics = athlete_data[(athlete_data['Event'] == 'Athletics Women\\'s Shot Put') & \n",
    "                                       (athlete_data['Medal'] == 1)][['Age', 'Height', 'Weight','Event','Year']]\n"
   ]
  },
  {
   "cell_type": "code",
   "execution_count": 27,
   "metadata": {},
   "outputs": [
    {
     "name": "stdout",
     "output_type": "stream",
     "text": [
      "Slope:  0.03057118155843048 , Intercept:  -35.1280263938373\n"
     ]
    },
    {
     "data": {
      "image/png": "[encoded data removed]",
      "text/plain": [
       "<Figure size 432x288 with 1 Axes>"
      ]
     },
     "metadata": {},
     "output_type": "display_data"
    }
   ],
   "source": [
    "M_shotput_data_biometrics.dropna(inplace=True)\n",
    "\n",
    "mens_shot_put_wt_slope, mens_shot_put_wt_intercept = np.polyfit( M_shotput_data_biometrics ['Year'], M_shotput_data_biometrics ['Weight'], 1)\n",
    "mens_shot_put_ht_slope, mens_shot_put_ht_intercept = np.polyfit( M_shotput_data_biometrics ['Year'], M_shotput_data_biometrics ['Height'], 1)\n",
    "mens_shot_put_age_slope, mens_shot_put_age_intercept = np.polyfit( M_shotput_data_biometrics ['Year'], M_shotput_data_biometrics ['Age'], 1)\n",
    "\n",
    "print('Slope: ', mens_shot_put_age_slope, \", Intercept: \", mens_shot_put_age_intercept)\n",
    "\n",
    "m_x = M_shotput_data_biometrics ['Year']\n",
    "m_y_wt = mens_shot_put_wt_slope * m_x + mens_shot_put_wt_intercept\n",
    "m_y_ht = mens_shot_put_ht_slope * m_x + mens_shot_put_ht_intercept\n",
    "m_y_age = mens_shot_put_age_slope * m_x + mens_shot_put_age_intercept\n",
    "\n",
    "plt.plot(m_x,m_y_wt,label = 'Weight kg')\n",
    "plt.plot(m_x,m_y_ht, label = 'Height cm')\n",
    "plt.plot(m_x,m_y_age, label = 'Age yrs')\n",
    "plt.title('Men\\'s')\n",
    "plt.legend(loc = 2)\n",
    "plt.xlabel('Year')\n",
    "plt.show()\n"
   ]
  },
  {
   "cell_type": "markdown",
   "metadata": {},
   "source": [
    "From this analysis, we can see that since the beggining of the Men's Olympic Shot Put event, the weight and height of the gold medal winner has been increasing. Interestingly, the age has remained relatively the same, around 25 years."
   ]
  },
  {
   "cell_type": "markdown",
   "metadata": {},
   "source": [
    "Womens:"
   ]
  },
  {
   "cell_type": "code",
   "execution_count": 20,
   "metadata": {},
   "outputs": [
    {
     "name": "stdout",
     "output_type": "stream",
     "text": [
      "Slope:  0.034571723426212286 , Intercept:  -42.85448916408607\n"
     ]
    },
    {
     "data": {
      "image/png": "[encoded data removed]",
      "text/plain": [
       "<Figure size 432x288 with 1 Axes>"
      ]
     },
     "metadata": {},
     "output_type": "display_data"
    }
   ],
   "source": [
    "W_shotput_data_biometrics.dropna(inplace=True)\n",
    "\n",
    "womens_shot_put_wt_slope, womens_shot_put_wt_intercept = np.polyfit( W_shotput_data_biometrics ['Year'], W_shotput_data_biometrics ['Weight'], 1)\n",
    "womens_shot_put_ht_slope, womens_shot_put_ht_intercept = np.polyfit( W_shotput_data_biometrics ['Year'], W_shotput_data_biometrics ['Height'], 1)\n",
    "womens_shot_put_age_slope, womens_shot_put_age_intercept = np.polyfit( W_shotput_data_biometrics ['Year'], W_shotput_data_biometrics ['Age'], 1)\n",
    "\n",
    "print('Slope: ', womens_shot_put_age_slope, \", Intercept: \", womens_shot_put_age_intercept)\n",
    "\n",
    "w_x = W_shotput_data_biometrics ['Year']\n",
    "w_y_wt = womens_shot_put_wt_slope * w_x + womens_shot_put_wt_intercept\n",
    "w_y_ht = womens_shot_put_ht_slope * w_x + womens_shot_put_ht_intercept\n",
    "w_y_age = womens_shot_put_age_slope * w_x + womens_shot_put_age_intercept\n",
    "\n",
    "plt.plot(w_x,w_y_wt,label = 'Weight kg')\n",
    "plt.plot(w_x,w_y_ht, label = 'Height cm')\n",
    "plt.plot(w_x,w_y_age, label = 'Age yrs')\n",
    "plt.title('Women\\'s')\n",
    "plt.legend(loc = 2)\n",
    "plt.xlabel('Year')\n",
    "plt.show()\n"
   ]
  },
  {
   "cell_type": "markdown",
   "metadata": {},
   "source": [
    "From this analysis, we can see that since the beggining of the Women's Olympic Shot Put event, the weight and height of the gold medal winner has been increasing. Interestingly, the age has remained relatively the same, around 25 years."
   ]
  },
  {
   "cell_type": "markdown",
   "metadata": {},
   "source": [
    "Men's 100 meter dash:\n"
   ]
  },
  {
   "cell_type": "code",
   "execution_count": 29,
   "metadata": {
    "scrolled": false
   },
   "outputs": [
    {
     "name": "stdout",
     "output_type": "stream",
     "text": [
      "Slope:  0.04522292118781395 , Intercept:  -65.07031013927377\n"
     ]
    },
    {
     "data": {
      "image/png": "[encoded data removed]",
      "text/plain": [
       "<Figure size 432x288 with 1 Axes>"
      ]
     },
     "metadata": {},
     "output_type": "display_data"
    }
   ],
   "source": [
    "M_100_data_biometrics = athlete_data[(athlete_data['Event'] == 'Athletics Men\\'s 100 metres') & \n",
    "                                       (athlete_data['Medal'] == 1)][['Age', 'Height', 'Weight','Event','Year']]\n",
    "\n",
    "M_100_data_biometrics.dropna(inplace=True)\n",
    "\n",
    "mens_100_wt_slope, mens_100_wt_intercept = np.polyfit( M_100_data_biometrics ['Year'], M_100_data_biometrics ['Weight'], 1)\n",
    "mens_100_ht_slope, mens_100_ht_intercept = np.polyfit( M_100_data_biometrics ['Year'], M_100_data_biometrics ['Height'], 1)\n",
    "mens_100_age_slope, mens_100_age_intercept = np.polyfit( M_100_data_biometrics ['Year'], M_100_data_biometrics ['Age'], 1)\n",
    "\n",
    "print('Slope: ', mens_100_age_slope, \", Intercept: \", mens_100_age_intercept)\n",
    "\n",
    "m_x = M_100_data_biometrics ['Year']\n",
    "m_y_wt = mens_100_wt_slope * m_x + mens_100_wt_intercept\n",
    "m_y_ht = mens_100_ht_slope * m_x + mens_100_ht_intercept\n",
    "m_y_age = mens_100_age_slope * m_x + mens_100_age_intercept\n",
    "\n",
    "plt.plot(m_x,m_y_wt,label = 'Weight kg')\n",
    "plt.plot(m_x,m_y_ht, label = 'Height cm')\n",
    "plt.plot(m_x,m_y_age, label = 'Age yrs')\n",
    "plt.title('Men\\'s')\n",
    "plt.legend(loc = 2)\n",
    "plt.xlabel('Year')\n",
    "plt.show()"
   ]
  },
  {
   "cell_type": "markdown",
   "metadata": {},
   "source": [
    "From this analysis, we can see that since the beggining of the Men's Olympic 100 meter dash event, the weight and height of the gold medal winner has been increasing. Interestingly, the age has remained relatively the same, around 25 years."
   ]
  },
  {
   "cell_type": "markdown",
   "metadata": {},
   "source": [
    "Women's 100 meter dash:"
   ]
  },
  {
   "cell_type": "code",
   "execution_count": 28,
   "metadata": {},
   "outputs": [
    {
     "name": "stdout",
     "output_type": "stream",
     "text": [
      "Slope:  0.07670051960321206 , Intercept:  -128.4761454888993\n"
     ]
    },
    {
     "data": {
      "image/png": "[encoded data removed]",
      "text/plain": [
       "<Figure size 432x288 with 1 Axes>"
      ]
     },
     "metadata": {},
     "output_type": "display_data"
    }
   ],
   "source": [
    "W_100_data_biometrics = athlete_data[(athlete_data['Event'] == 'Athletics Women\\'s 100 metres') & \n",
    "                                       (athlete_data['Medal'] == 1)][['Age', 'Height', 'Weight','Event','Year']]\n",
    "\n",
    "\n",
    "W_100_data_biometrics.dropna(inplace=True)\n",
    "\n",
    "womens_100_wt_slope, womens_100_wt_intercept = np.polyfit( W_100_data_biometrics ['Year'], W_100_data_biometrics ['Weight'], 1)\n",
    "womens_100_ht_slope, womens_100_ht_intercept = np.polyfit( W_100_data_biometrics ['Year'], W_100_data_biometrics ['Height'], 1)\n",
    "womens_100_age_slope, womens_100_age_intercept = np.polyfit( W_100_data_biometrics ['Year'], W_100_data_biometrics ['Age'], 1)\n",
    "\n",
    "print('Slope: ', womens_100_age_slope, \", Intercept: \", womens_100_age_intercept)\n",
    "\n",
    "m_x = W_100_data_biometrics ['Year']\n",
    "m_y_wt = womens_100_wt_slope * m_x + womens_100_wt_intercept\n",
    "m_y_ht = womens_100_ht_slope * m_x + womens_100_ht_intercept\n",
    "m_y_age = womens_100_age_slope * m_x + womens_100_age_intercept\n",
    "\n",
    "plt.plot(m_x,m_y_wt,label = 'Weight kg')\n",
    "plt.plot(m_x,m_y_ht, label = 'Height cm')\n",
    "plt.plot(m_x,m_y_age, label = 'Age yrs')\n",
    "plt.title('Women\\'s')\n",
    "plt.legend(loc = 2)\n",
    "plt.xlabel('Year')\n",
    "plt.show()\n"
   ]
  },
  {
   "cell_type": "markdown",
   "metadata": {},
   "source": [
    "From this analysis, we can see that since the beggining of the Women's Olympic 100 meter dash event, the weight and height of the gold medal winner has been decreasing. This is contrary to the trends found in the men's event. Interestingly, the age has remained relatively the same, around 20 years."
   ]
  },
  {
   "cell_type": "code",
   "execution_count": null,
   "metadata": {},
   "outputs": [],
   "source": []
  }
 ],
 "metadata": {
  "janus": {
   "filepaths": [
    [
     "e29fb540",
     1547590409700,
     1547590508170
    ],
    [
     "eca69024",
     1549407467335,
     1551997796227
    ]
   ],
   "janus_markers": [],
   "track_history": true
  },
  "kernelspec": {
   "display_name": "Python 3",
   "language": "python",
   "name": "python3"
  },
  "language_info": {
   "codemirror_mode": {
    "name": "ipython",
    "version": 3
   },
   "file_extension": ".py",
   "mimetype": "text/x-python",
   "name": "python",
   "nbconvert_exporter": "python",
   "pygments_lexer": "ipython3",
   "version": "3.7.2"
  },
  "toc": {
   "base_numbering": 1,
   "nav_menu": {},
   "number_sections": true,
   "sideBar": true,
   "skip_h1_title": false,
   "title_cell": "Table of Contents",
   "title_sidebar": "Contents",
   "toc_cell": false,
   "toc_position": {},
   "toc_section_display": true,
   "toc_window_display": false
  }
 },
 "nbformat": 4,
 "nbformat_minor": 2
}
