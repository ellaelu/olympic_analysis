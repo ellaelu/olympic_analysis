{
 "cells": [
  {
   "cell_type": "markdown",
   "metadata": {
    "janus": {
     "all_versions_showing": false,
     "cell_hidden": false,
     "current_version": 0,
     "id": "ab25b292b2e81",
     "named_versions": [],
     "output_hidden": false,
     "show_versions": false,
     "source_hidden": false,
     "versions": []
    }
   },
   "source": [
    "## Overview"
   ]
  },
  {
   "cell_type": "markdown",
   "metadata": {
    "janus": {
     "all_versions_showing": false,
     "cell_hidden": false,
     "current_version": 0,
     "id": "34536eab87de1",
     "named_versions": [],
     "output_hidden": false,
     "show_versions": false,
     "source_hidden": false,
     "versions": []
    }
   },
   "source": [
    "## Contributers \n",
    "\n",
    "- Ella Lucas\n",
    "- Aditya Srinivasan \n",
    "- Kenny Padden\n",
    "- Anthony Morrell\n",
    "- Noah Lee"
   ]
  },
  {
   "cell_type": "markdown",
   "metadata": {
    "janus": {
     "all_versions_showing": false,
     "cell_hidden": false,
     "current_version": 0,
     "id": "9bba84cab92da",
     "named_versions": [],
     "output_hidden": false,
     "show_versions": false,
     "source_hidden": false,
     "versions": []
    }
   },
   "source": [
    "### Research Question"
   ]
  },
  {
   "cell_type": "markdown",
   "metadata": {
    "janus": {
     "all_versions_showing": false,
     "cell_hidden": false,
     "current_version": 0,
     "id": "b569f835008b",
     "named_versions": [],
     "output_hidden": false,
     "show_versions": false,
     "source_hidden": false,
     "versions": []
    }
   },
   "source": [
    "Which national events, such as World Wars and economic depressions, had the greatest impact on the success of the top wedal-winning nations in the top ten quantifiable sports, meaning that their performance is ranked as a time (Track/Field, swimming) rather than subjectively (gymnastics) or situationally (basketball), at the Summer Olympic Games?"
   ]
  },
  {
   "cell_type": "markdown",
   "metadata": {
    "janus": {
     "all_versions_showing": false,
     "cell_hidden": false,
     "current_version": 0,
     "id": "b316693b8a05",
     "named_versions": [],
     "output_hidden": false,
     "show_versions": false,
     "source_hidden": false,
     "versions": []
    }
   },
   "source": [
    "### Hypothesis"
   ]
  },
  {
   "cell_type": "markdown",
   "metadata": {
    "janus": {
     "all_versions_showing": false,
     "cell_hidden": false,
     "current_version": 0,
     "id": "a8ae5f5da39a8",
     "named_versions": [],
     "output_hidden": false,
     "show_versions": false,
     "source_hidden": false,
     "versions": []
    }
   },
   "source": [
    "We believe that countries with stable economies, non-domestic conflicts, higher GDP, and technological advancements will perform the best in the Olympics. This will be measured by athletes with the greatest yearly improvement and their country's medal count both during times of stability and times of conflict."
   ]
  },
  {
   "cell_type": "markdown",
   "metadata": {
    "janus": {
     "all_versions_showing": false,
     "cell_hidden": false,
     "current_version": 0,
     "id": "c5e91bbca2405",
     "named_versions": [],
     "output_hidden": false,
     "show_versions": false,
     "source_hidden": false,
     "versions": []
    }
   },
   "source": [
    "### Dataset(s)"
   ]
  },
  {
   "cell_type": "markdown",
   "metadata": {
    "janus": {
     "all_versions_showing": false,
     "cell_hidden": false,
     "current_version": 0,
     "id": "2174a09867a5d",
     "named_versions": [],
     "output_hidden": false,
     "show_versions": false,
     "source_hidden": false,
     "versions": []
    }
   },
   "source": [
    "\n",
    "- Dataset Name: 120 Years of Olympic History: Athletes and Results\n",
    "- Link to the dataset: https://www.kaggle.com/heesoo37/120-years-of-olympic-history-athletes-and-results\n",
    "- Number of observations: 271116\n",
    "\n",
    "Basic bio data on athletes and medal results from Athens 1896 to Rio 2016. This is our basis dataset and we will find others to merge to compare country statistics over these years. However, this dataset does not include the time measurements of winning athletes, so we will find more datasets such as this one: https://www.kaggle.com/jayrav13/olympic-track-field-results to help us more closely analyze Olympic winners and their improvements over the years.\n",
    "\n",
    "- Dataset Name: Countries of the World\n",
    "- Link to the dataset: https://www.kaggle.com/fernandol/countries-of-the-world\n",
    "- Number of observations: 227\n",
    "\n",
    "Country names linked to region, population, area size, GDP, mortality and more from 1970-2017. This will give us a basic profile of the countries we analyze.\n",
    "\n",
    "We will combine these two datasets by merging them by Country and Year to get descriptive metrics about each country and compare them to that year's Olympic Games results.\n",
    "\n",
    "For technological advancements, we will get years that significant changes were made to athlete performance equipment such as track shoes, swimsuits and other athletic gear. We will use those dates to analyze performance changes in athletic ability."
   ]
  },
  {
   "cell_type": "markdown",
   "metadata": {
    "janus": {
     "all_versions_showing": false,
     "cell_hidden": false,
     "current_version": 0,
     "id": "70267729777c9",
     "named_versions": [],
     "output_hidden": false,
     "show_versions": false,
     "source_hidden": false,
     "versions": []
    }
   },
   "source": [
    "### Background and Prior Work"
   ]
  },
  {
   "cell_type": "markdown",
   "metadata": {
    "janus": {
     "all_versions_showing": false,
     "cell_hidden": false,
     "current_version": 0,
     "id": "7d791c5857c6b",
     "named_versions": [],
     "output_hidden": false,
     "show_versions": false,
     "source_hidden": false,
     "versions": []
    }
   },
   "source": [
    "Our group was interested in using the Olympic dataset because to some degree we all participate in athletics. Once we started looking through the dataset, we immediately started researching correlated information such as GDP of winning countries over the years, wars, economic depressions, and technological advancements(shoes, tracks, swimsuits, steroids etc..) that may have impacted athlete performance over the years. Not only is this question of great interest to us, but also gives us a lot of opportunities to look for interesting data to combine as well as think outside of the box about variables that might affect athlete performance.\n",
    "\n",
    "Kaggle had many Kernels containing initial analysis of these datasets, but we plan to include more data, such as the contry profiles shown above, and another dataset including the times of winning Olympic performances. Country's GDP has been analyzed as Olympic win predictors, but we plan to use significant dates as well such as World Wars, economic depressions, and technological changes to analyze external factors that may give athletes a competitive edge. \n",
    "\n",
    "\n",
    "References (include links):\n",
    "\n",
    "-1) https://mospace.umsystem.edu/xmlui/bitstream/handle/10355/461/Gray%20poster.pdfsequence=1&fbclid=IwAR2fwWffyMOnxAjXcFKO9dSC77a2VB-Tjr0pvzMgPe_Ji6XpR-uopR1zTv0\n",
    "\n",
    "-2) \n",
    "https://data.worldbank.org/indicator/NY.GDP.MKTP.CDend=2017&start=1960&fbclid=IwAR35CZVUXUnoUJQ4UyA8N5cH9xYhxO8IrbFpJSTlz-ScqLOt1yo0wvWF8ms\n",
    "\n",
    "-3)\n",
    "https://www.siliconrepublic.com/trending/rio-2016-olympic-games\n",
    "\n",
    "-4)\n",
    "https://www.jstor.org/stable/24384500?seq=1#metadata_info_tab_contents"
   ]
  },
  {
   "cell_type": "markdown",
   "metadata": {
    "janus": {
     "all_versions_showing": false,
     "cell_hidden": false,
     "current_version": 0,
     "id": "9aa0a32fff9dd",
     "named_versions": [],
     "output_hidden": false,
     "show_versions": false,
     "source_hidden": false,
     "versions": []
    }
   },
   "source": [
    "### Proposed Methods"
   ]
  },
  {
   "cell_type": "markdown",
   "metadata": {
    "janus": {
     "all_versions_showing": false,
     "cell_hidden": false,
     "current_version": 0,
     "id": "ee13da13942d5",
     "named_versions": [],
     "output_hidden": false,
     "show_versions": false,
     "source_hidden": false,
     "versions": []
    }
   },
   "source": [
    "*Data Cleaning*\n",
    "\n",
    "In the Olympic dataset, we will replace Gold, Silver, Bronze, Other with 1, 2, 3, 4, replace Male, Female with 1, 2, replace Summer, Winter with 1, 2, change Age to integer values, and replace all missing values with -1. As we combine datasets we may need to clean the other datasets as well but we will do so in a similar fashion to make sure the values are consistently joined and fashioned to make selecting subsets of our data easy.\n",
    "\n",
    "In the Countries dataset, we will change the decimal format from \",\" to \".\".\n",
    "\n",
    "*Data Analysis*\n",
    "\n",
    "We will break the 120 years of Olympic data into subsets of medal wins and non-medaling efforts. From there we can compare countires who win the most medals with countries that do not have a history of medal placement. We will also find dates and times of significant world events that we believe will impact athletic performance, and analyze the performance of those athletes over the time period of interest. We will attempt to separate these factors from pure athletic improvements by measuring average improvement in sports over time. We will then analyze deviations from the standard improvement metric which hopefully can be explained by the external factors we find.\n",
    "\n",
    "We know that there are hundreds of possible factors that will impact an athletes performance. We will attempt to account for all factors we can think of, and look for data that may possibly explain these changes. We believe that global events do hold a strong swaying factor in international competitions so after accounting for general athletic improvement, perhaps analyzing changing technologies and national/economic factors will allow us to more precisely find explanations for athlete performance.\n",
    "\n",
    "\n",
    "*Report*\n",
    "\n",
    "We plan to use visualizations of various distribution data so we can run statistical t and p-tests, establish standard deviations, and highlight outliers. We will also build a predictive model to run against modern data and suggest likely success and medal earnings for competitive teams.\n",
    "\n",
    "Packages we plan to use:\n",
    "- pandas\n",
    "- numpy\n",
    "- matplotlib\n",
    "- seaborn\n",
    "- scikit"
   ]
  },
  {
   "cell_type": "markdown",
   "metadata": {
    "janus": {
     "all_versions_showing": false,
     "cell_hidden": false,
     "current_version": 0,
     "id": "9352b7cfc3e92",
     "named_versions": [],
     "output_hidden": false,
     "show_versions": false,
     "source_hidden": false,
     "versions": []
    }
   },
   "source": [
    "### Ethics and Privacy\n",
    "\n",
    "Our datasets are open source on Kaggle, so we have the neccessary permissions to download and use the data. Because these athletes all performed in a public setting, their names, height or weight will not be removed, and there is no other personal information about athletes such as where they live, medical records or contact information. We will not need any special certifications to work with these datasets.\n",
    "\n",
    "The potential biases in our data may result from reported numbers during collection of information for the Countries of the World dataset, however we do not forsee this to be an issue. Other issues regarding our choice of topic include unfounded opinions of other nations and their citizens and how that may or may not contribute to said country's success on the international stage. We plan to handle such issues by formulating our results from facts. \n",
    "\n",
    "Issues we expect to run into include conflicting time measurements in datasets we merge, conflicts in GDP measurements and accurately asserting the years certain technological advancements were made to various sports."
   ]
  },
  {
   "cell_type": "markdown",
   "metadata": {
    "janus": {
     "all_versions_showing": false,
     "cell_hidden": false,
     "current_version": 0,
     "id": "b70f31949cc59",
     "named_versions": [],
     "output_hidden": false,
     "show_versions": false,
     "source_hidden": false,
     "versions": []
    }
   },
   "source": [
    "### Discussion"
   ]
  },
  {
   "cell_type": "markdown",
   "metadata": {
    "janus": {
     "all_versions_showing": false,
     "cell_hidden": false,
     "current_version": 0,
     "id": "357b32224d4cf",
     "named_versions": [],
     "output_hidden": false,
     "show_versions": false,
     "source_hidden": false,
     "versions": []
    }
   },
   "source": [
    "If our analyses and hypotheses are correct, the contribution of this project to the topic domain will be forming more acute opinions of factors that contribute to the success of athletes on an international basis. Perhaps, if the Olympic Committee were to realize that there are significant deviations in athletic performance during times of war, they will cancel the Olympic games in times of conflict. Or perhaps if significant technological changes are shown to create large disparities between developed and developing countries in Olympic performance, the Committee will limit the amount countries can spend on their athletes in the Olympic Games. This method of analysis will also ideally uncover meaningful measures of athletic improvements by athletes over the century and the home climate that successful athletes come from.\n",
    "\n",
    "\n",
    "If our hypotheses are wrong, then we will consider the results for possible insights that we did not anticipate. In doing so, we will be accounting for bias because we will not exclude results due to the fact that they do not correspond with our original hypothesis. Due to the fact that there are many variables that affect Olympic performance, it is very possible that we may have missed a very impactful one. Regardless, the overall significance of informing our audience of changes and continuities over time will be insightful in striving towards a higher standard of fairness in the Olympic Games. If our methods fail, then we will alter our approach using our misconceptions to guide us. \n",
    "\n",
    "\n",
    "The potential pitfalls and confounds of our data include the possibility of not having enough of the important variables included or considered in our analysis. Things such as human factors, individual stories, variances in training, and the number of available resources for athletes are not recorded in the results, but do play an important role in how athletes perform. In terms of our methods, we must take care when deciding what to analyze as we may overlook options or prioritize different elements based on our personal biases. \n"
   ]
  },
  {
   "cell_type": "code",
   "execution_count": null,
   "metadata": {
    "janus": {
     "all_versions_showing": false,
     "cell_hidden": false,
     "current_version": 0,
     "id": "4d44d284f8979",
     "named_versions": [],
     "output_hidden": false,
     "show_versions": false,
     "source_hidden": false,
     "versions": []
    }
   },
   "outputs": [],
   "source": []
  }
 ],
 "metadata": {
  "janus": {
   "filepaths": [
    [
     "096a54cf",
     1549584812920,
     1550195486362
    ]
   ],
   "janus_markers": [],
   "track_history": true
  },
  "kernelspec": {
   "display_name": "Python 3",
   "language": "python",
   "name": "python3"
  },
  "language_info": {
   "codemirror_mode": {
    "name": "ipython",
    "version": 3
   },
   "file_extension": ".py",
   "mimetype": "text/x-python",
   "name": "python",
   "nbconvert_exporter": "python",
   "pygments_lexer": "ipython3",
   "version": "3.7.2"
  }
 },
 "nbformat": 4,
 "nbformat_minor": 2
}
