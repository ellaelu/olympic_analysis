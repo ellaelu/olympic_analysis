{
 "cells": [
  {
   "cell_type": "markdown",
   "metadata": {
    "janus": {
     "all_versions_showing": false,
     "cell_hidden": false,
     "current_version": 0,
     "id": "3f21f7565e7e7",
     "named_versions": [],
     "output_hidden": false,
     "show_versions": false,
     "source_hidden": false,
     "versions": []
    }
   },
   "source": [
    "# Data Import"
   ]
  },
  {
   "cell_type": "code",
   "execution_count": 1,
   "metadata": {
    "ExecuteTime": {
     "end_time": "2019-03-07T22:30:02.076647Z",
     "start_time": "2019-03-07T22:30:00.142654Z"
    },
    "janus": {
     "all_versions_showing": false,
     "cell_hidden": false,
     "current_version": 0,
     "id": "a00f9e2e18358",
     "named_versions": [],
     "output_hidden": false,
     "show_versions": false,
     "source_hidden": false,
     "versions": []
    },
    "scrolled": true
   },
   "outputs": [],
   "source": [
    "import pandas as pd\n",
    "import datetime as dt\n",
    "import numpy as np\n",
    "\n",
    "athlete_data = pd.read_csv('../Data/athlete_events.csv', index_col = 0)\n",
    "regional_data = pd.read_csv('../Data/noc_regions.csv')\n",
    "track_and_field_results = pd.read_csv('../Data/results.csv', names = ('Gender', 'Event', 'Location', 'Year', 'Medal', 'Name', 'Nationality', 'Result'))\n",
    "\n",
    "#We are only using data from Track and Field Events so limiting for that\n",
    "athlete_data = athlete_data[athlete_data['Sport'] == 'Athletics']\n",
    "\n",
    "track_and_field_results.drop(0, axis=0, inplace = True)"
   ]
  },
  {
   "cell_type": "markdown",
   "metadata": {
    "janus": {
     "all_versions_showing": false,
     "cell_hidden": false,
     "current_version": 0,
     "id": "934753d20d3bf",
     "named_versions": [],
     "output_hidden": false,
     "show_versions": false,
     "source_hidden": false,
     "versions": []
    }
   },
   "source": [
    "# Data Cleaning\n",
    " - Replace Gold, Silver, Bronze, Other with 1, 2, 3, 4\n",
    " - Replace Male, Female with 1, 2\n",
    " - Replace Summer, Winter with 1, 2\n",
    " - Change Age to int, missing values = -1"
   ]
  },
  {
   "cell_type": "markdown",
   "metadata": {
    "janus": {
     "all_versions_showing": false,
     "cell_hidden": false,
     "current_version": 0,
     "id": "7e26dfa279e21",
     "named_versions": [],
     "output_hidden": false,
     "show_versions": false,
     "source_hidden": false,
     "versions": []
    }
   },
   "source": [
    "## Map Strings to Integers"
   ]
  },
  {
   "cell_type": "code",
   "execution_count": 2,
   "metadata": {
    "ExecuteTime": {
     "end_time": "2019-03-07T22:30:02.146340Z",
     "start_time": "2019-03-07T22:30:02.081071Z"
    },
    "janus": {
     "all_versions_showing": false,
     "cell_hidden": false,
     "current_version": 0,
     "id": "375fd6ad0b897",
     "named_versions": [],
     "output_hidden": false,
     "show_versions": false,
     "source_hidden": false,
     "versions": []
    },
    "scrolled": true
   },
   "outputs": [],
   "source": [
    "#First mapping track and field results file\n",
    "\n",
    "track_and_field_results['Year'] = pd.to_numeric(track_and_field_results['Year'])\n",
    "\n",
    "track_and_field_results['Medal'].replace('G', 1, inplace = True)\n",
    "track_and_field_results['Medal'].replace('S', 2, inplace = True)\n",
    "track_and_field_results['Medal'].replace('B', 3, inplace = True)\n",
    "track_and_field_results['Medal'].replace(np.nan, 4, inplace = True)\n",
    "\n",
    "track_and_field_results['Gender'].replace('M', 1, inplace = True)\n",
    "track_and_field_results['Gender'].replace('W', 2, inplace = True)"
   ]
  },
  {
   "cell_type": "code",
   "execution_count": 3,
   "metadata": {
    "ExecuteTime": {
     "end_time": "2019-03-07T22:30:02.541437Z",
     "start_time": "2019-03-07T22:30:02.157774Z"
    },
    "janus": {
     "all_versions_showing": false,
     "cell_hidden": false,
     "current_version": 0,
     "id": "250552745da93",
     "named_versions": [],
     "output_hidden": false,
     "show_versions": false,
     "source_hidden": false,
     "versions": []
    }
   },
   "outputs": [],
   "source": [
    "#Mapping athlete data\n",
    "\n",
    "athlete_data['Medal'].replace('Gold', 1, inplace = True)\n",
    "athlete_data['Medal'].replace('Silver', 2, inplace = True)\n",
    "athlete_data['Medal'].replace('Bronze', 3, inplace = True)\n",
    "athlete_data['Medal'].replace(np.nan, 4, inplace = True)\n",
    "\n",
    "athlete_data['Sex'].replace('M', 1, inplace = True)\n",
    "athlete_data['Sex'].replace('F', 2, inplace = True)\n",
    "\n",
    "athlete_data['Season'].replace('Summer', 1, inplace = True)\n",
    "athlete_data['Season'].replace('Winter', 2, inplace = True)\n",
    "\n",
    "athlete_data['Age'].replace(np.nan, -1, inplace = True)\n",
    "athlete_data['Age'] = athlete_data['Age'].astype(int)\n",
    "\n",
    "athlete_data.sort_values('Year', ascending = True, inplace = True)"
   ]
  },
  {
   "cell_type": "markdown",
   "metadata": {
    "janus": {
     "all_versions_showing": false,
     "cell_hidden": false,
     "current_version": 0,
     "id": "f4f042bdb45f7",
     "named_versions": [],
     "output_hidden": false,
     "show_versions": false,
     "source_hidden": false,
     "versions": []
    }
   },
   "source": [
    "## Make Data Subsets\n",
    " - Medal wins, No Medals Won\n",
    " - Summer Sports, Winter Sports"
   ]
  },
  {
   "cell_type": "markdown",
   "metadata": {
    "janus": {
     "all_versions_showing": false,
     "cell_hidden": false,
     "current_version": 0,
     "id": "999b3affa0f11",
     "named_versions": [],
     "output_hidden": false,
     "show_versions": false,
     "source_hidden": false,
     "versions": []
    }
   },
   "source": [
    "### By Medal Count"
   ]
  },
  {
   "cell_type": "code",
   "execution_count": 4,
   "metadata": {
    "ExecuteTime": {
     "end_time": "2019-03-07T22:30:02.580815Z",
     "start_time": "2019-03-07T22:30:02.546601Z"
    },
    "janus": {
     "all_versions_showing": false,
     "cell_hidden": false,
     "current_version": 0,
     "id": "3255093c74c6",
     "named_versions": [],
     "output_hidden": false,
     "show_versions": false,
     "source_hidden": false,
     "versions": []
    }
   },
   "outputs": [],
   "source": [
    "# Read athlete_data[athlete_data['Medal'] == 1] as \"athlete_data where athlete_data's medal column equals 1\"\n",
    "medal_wins = athlete_data[athlete_data['Medal'] != 4]\n",
    "non_medal_wins = athlete_data[athlete_data['Medal'] == 4]\n",
    "\n",
    "summer_sports = athlete_data[athlete_data['Season'] == 1]\n",
    "winter_sports = athlete_data[athlete_data['Season'] == 2]"
   ]
  },
  {
   "cell_type": "markdown",
   "metadata": {
    "janus": {
     "all_versions_showing": false,
     "cell_hidden": false,
     "current_version": 0,
     "id": "278bcae732ed9",
     "named_versions": [],
     "output_hidden": false,
     "show_versions": false,
     "source_hidden": false,
     "versions": []
    }
   },
   "source": [
    "## By Athletic Event\n",
    " - 1500m \n",
    " - High jump\n",
    " - Javelin\n",
    " - 100m hurdles 110m hurdles\n",
    " - shotput\n",
    " - 4x100 relay\n"
   ]
  },
  {
   "cell_type": "code",
   "execution_count": 5,
   "metadata": {
    "ExecuteTime": {
     "end_time": "2019-03-07T22:30:02.631320Z",
     "start_time": "2019-03-07T22:30:02.595579Z"
    },
    "janus": {
     "all_versions_showing": false,
     "cell_hidden": false,
     "current_version": 0,
     "id": "4aa3a82f6894a",
     "named_versions": [],
     "output_hidden": false,
     "show_versions": false,
     "source_hidden": false,
     "versions": []
    }
   },
   "outputs": [],
   "source": [
    "mens_100m = track_and_field_results[track_and_field_results['Event'] == '100M Men']\n",
    "\n",
    "womens_100m = track_and_field_results[track_and_field_results['Event'] == '100M Women']\n",
    "\n",
    "mens_1500m = track_and_field_results[track_and_field_results['Event'] == '1500M Men']\n",
    "\n",
    "womens_1500m = track_and_field_results[track_and_field_results['Event'] == '1500M Women']\n",
    "\n",
    "mens_relay = track_and_field_results[track_and_field_results['Event'] == '4X100M Relay Men']\n",
    "\n",
    "womens_relay = track_and_field_results[track_and_field_results['Event'] == '4X100M Relay Women']\n",
    "\n",
    "mens_high_jump = track_and_field_results[track_and_field_results['Event'] == 'High Jump Men']\n",
    "\n",
    "womens_high_jump = track_and_field_results[track_and_field_results['Event'] == 'High Jump Women']\n",
    "\n",
    "mens_javelin = track_and_field_results[track_and_field_results['Event'] == 'Javelin Throw Men']\n",
    "\n",
    "womens_javelin = track_and_field_results[track_and_field_results['Event'] == 'Javelin Throw Women']\n",
    "\n",
    "mens_shot_put = track_and_field_results[track_and_field_results['Event'] == 'Shot Put Men']\n",
    "\n",
    "womens_shot_put = track_and_field_results[track_and_field_results['Event'] == 'Shot Put Men']"
   ]
  },
  {
   "cell_type": "markdown",
   "metadata": {
    "janus": {
     "all_versions_showing": false,
     "cell_hidden": false,
     "current_version": 0,
     "id": "6409d55cbefd7",
     "named_versions": [],
     "output_hidden": false,
     "show_versions": false,
     "source_hidden": false,
     "versions": []
    }
   },
   "source": [
    "# Run Regression on Gold Medal Winning Attempts"
   ]
  },
  {
   "cell_type": "markdown",
   "metadata": {
    "janus": {
     "all_versions_showing": false,
     "cell_hidden": false,
     "current_version": 0,
     "id": "e320bd3b9ef07",
     "named_versions": [],
     "output_hidden": false,
     "show_versions": false,
     "source_hidden": false,
     "versions": []
    }
   },
   "source": [
    "## Mens 100M Dash"
   ]
  },
  {
   "cell_type": "code",
   "execution_count": 6,
   "metadata": {
    "ExecuteTime": {
     "end_time": "2019-03-07T22:30:02.745366Z",
     "start_time": "2019-03-07T22:30:02.638033Z"
    },
    "janus": {
     "all_versions_showing": false,
     "cell_hidden": false,
     "current_version": 0,
     "id": "9a44d52e9050f",
     "named_versions": [],
     "output_hidden": false,
     "show_versions": false,
     "source_hidden": false,
     "versions": []
    },
    "scrolled": true
   },
   "outputs": [
    {
     "name": "stdout",
     "output_type": "stream",
     "text": [
      "Slope:  -0.012597246503496584 , Intercept:  34.982566045066186\n"
     ]
    },
    {
     "name": "stderr",
     "output_type": "stream",
     "text": [
      "/Users/AdityaS/anaconda/lib/python3.6/site-packages/ipykernel_launcher.py:3: SettingWithCopyWarning: \n",
      "A value is trying to be set on a copy of a slice from a DataFrame.\n",
      "Try using .loc[row_indexer,col_indexer] = value instead\n",
      "\n",
      "See the caveats in the documentation: http://pandas.pydata.org/pandas-docs/stable/indexing.html#indexing-view-versus-copy\n",
      "  This is separate from the ipykernel package so we can avoid doing imports until\n"
     ]
    }
   ],
   "source": [
    "mens_100m_gold = mens_100m[mens_100m['Medal'] == 1]\n",
    "\n",
    "mens_100m_gold['Result'] = pd.to_numeric(mens_100m_gold['Result'])\n",
    "\n",
    "\n",
    "mens_100m_slope, mens_100m_intercept = np.polyfit( mens_100m_gold['Year'], mens_100m_gold['Result'], 1)\n",
    "print('Slope: ', mens_100m_slope, \", Intercept: \", mens_100m_intercept)"
   ]
  },
  {
   "cell_type": "markdown",
   "metadata": {
    "janus": {
     "all_versions_showing": false,
     "cell_hidden": false,
     "current_version": 0,
     "id": "e320bd3b9ef07",
     "named_versions": [],
     "output_hidden": false,
     "show_versions": false,
     "source_hidden": false,
     "versions": []
    }
   },
   "source": [
    "## Womens 100M Dash"
   ]
  },
  {
   "cell_type": "code",
   "execution_count": 7,
   "metadata": {
    "ExecuteTime": {
     "end_time": "2019-03-07T22:30:02.841051Z",
     "start_time": "2019-03-07T22:30:02.756113Z"
    },
    "janus": {
     "all_versions_showing": false,
     "cell_hidden": false,
     "current_version": 0,
     "id": "04138bf8bc706",
     "named_versions": [],
     "output_hidden": false,
     "show_versions": false,
     "source_hidden": false,
     "versions": []
    }
   },
   "outputs": [
    {
     "name": "stdout",
     "output_type": "stream",
     "text": [
      "Slope:  -0.014290271636133951 , Intercept:  39.40350221099184\n"
     ]
    },
    {
     "name": "stderr",
     "output_type": "stream",
     "text": [
      "/Users/AdityaS/anaconda/lib/python3.6/site-packages/ipykernel_launcher.py:3: SettingWithCopyWarning: \n",
      "A value is trying to be set on a copy of a slice from a DataFrame.\n",
      "Try using .loc[row_indexer,col_indexer] = value instead\n",
      "\n",
      "See the caveats in the documentation: http://pandas.pydata.org/pandas-docs/stable/indexing.html#indexing-view-versus-copy\n",
      "  This is separate from the ipykernel package so we can avoid doing imports until\n"
     ]
    }
   ],
   "source": [
    "womens_100m_gold = womens_100m[womens_100m['Medal'] == 1]\n",
    "\n",
    "womens_100m_gold['Result'] = pd.to_numeric(womens_100m_gold['Result'])\n",
    "\n",
    "\n",
    "womens_100m_slope, womens_100m_intercept = np.polyfit( womens_100m_gold['Year'], womens_100m_gold['Result'], 1)\n",
    "print('Slope: ', womens_100m_slope, \", Intercept: \", womens_100m_intercept)"
   ]
  },
  {
   "cell_type": "markdown",
   "metadata": {
    "janus": {
     "all_versions_showing": false,
     "cell_hidden": false,
     "current_version": 0,
     "id": "d6627d4a80226",
     "named_versions": [],
     "output_hidden": false,
     "show_versions": false,
     "source_hidden": false,
     "versions": []
    }
   },
   "source": [
    "## Mens Mile"
   ]
  },
  {
   "cell_type": "code",
   "execution_count": 8,
   "metadata": {
    "ExecuteTime": {
     "end_time": "2019-03-07T22:30:03.080146Z",
     "start_time": "2019-03-07T22:30:02.860318Z"
    },
    "janus": {
     "all_versions_showing": false,
     "cell_hidden": false,
     "current_version": 0,
     "id": "f8a968ab0f88d",
     "named_versions": [],
     "output_hidden": false,
     "show_versions": false,
     "source_hidden": false,
     "versions": []
    }
   },
   "outputs": [
    {
     "name": "stderr",
     "output_type": "stream",
     "text": [
      "/Users/AdityaS/anaconda/lib/python3.6/site-packages/ipykernel_launcher.py:3: SettingWithCopyWarning: \n",
      "A value is trying to be set on a copy of a slice from a DataFrame.\n",
      "Try using .loc[row_indexer,col_indexer] = value instead\n",
      "\n",
      "See the caveats in the documentation: http://pandas.pydata.org/pandas-docs/stable/indexing.html#indexing-view-versus-copy\n",
      "  This is separate from the ipykernel package so we can avoid doing imports until\n",
      "/Users/AdityaS/anaconda/lib/python3.6/site-packages/ipykernel_launcher.py:4: SettingWithCopyWarning: \n",
      "A value is trying to be set on a copy of a slice from a DataFrame.\n",
      "Try using .loc[row_indexer,col_indexer] = value instead\n",
      "\n",
      "See the caveats in the documentation: http://pandas.pydata.org/pandas-docs/stable/indexing.html#indexing-view-versus-copy\n",
      "  after removing the cwd from sys.path.\n"
     ]
    },
    {
     "name": "stdout",
     "output_type": "stream",
     "text": [
      "Slope:  -0.3141298805361336 , Intercept:  841.6409602434657\n"
     ]
    },
    {
     "name": "stderr",
     "output_type": "stream",
     "text": [
      "/Users/AdityaS/anaconda/lib/python3.6/site-packages/ipykernel_launcher.py:6: SettingWithCopyWarning: \n",
      "A value is trying to be set on a copy of a slice from a DataFrame.\n",
      "Try using .loc[row_indexer,col_indexer] = value instead\n",
      "\n",
      "See the caveats in the documentation: http://pandas.pydata.org/pandas-docs/stable/indexing.html#indexing-view-versus-copy\n",
      "  \n"
     ]
    }
   ],
   "source": [
    "mens_1500m_gold = mens_1500m[mens_1500m['Medal'] == 1]\n",
    "\n",
    "mens_1500m_gold['Result'] = (pd.to_datetime(mens_1500m_gold['Result'], format = \"%M:%S.%f\") - pd.to_datetime('1900-01-01'))\n",
    "mens_1500m_gold['Result'] = mens_1500m_gold['Result'].apply(lambda x: pd.Timedelta.total_seconds(x))\n",
    "\n",
    "mens_1500m_gold['Result'] = pd.to_numeric(mens_1500m_gold['Result'])\n",
    "\n",
    "mens_1500m_slope, mens_1500m_intercept = np.polyfit( mens_1500m_gold['Year'], mens_1500m_gold['Result'], 1)\n",
    "print('Slope: ', mens_1500m_slope, \", Intercept: \", mens_1500m_intercept)"
   ]
  },
  {
   "cell_type": "markdown",
   "metadata": {
    "janus": {
     "all_versions_showing": false,
     "cell_hidden": false,
     "current_version": 0,
     "id": "a4f75e6888e41",
     "named_versions": [],
     "output_hidden": false,
     "show_versions": false,
     "source_hidden": false,
     "versions": []
    }
   },
   "source": [
    "## Womens Mile"
   ]
  },
  {
   "cell_type": "code",
   "execution_count": 9,
   "metadata": {
    "ExecuteTime": {
     "end_time": "2019-03-07T22:30:03.257431Z",
     "start_time": "2019-03-07T22:30:03.093199Z"
    },
    "janus": {
     "all_versions_showing": false,
     "cell_hidden": false,
     "current_version": 0,
     "id": "a5a587977b6dd",
     "named_versions": [],
     "output_hidden": false,
     "show_versions": false,
     "source_hidden": false,
     "versions": []
    }
   },
   "outputs": [
    {
     "name": "stdout",
     "output_type": "stream",
     "text": [
      "Slope:  0.06490802675585255 , Intercept:  112.15028428093693\n"
     ]
    },
    {
     "name": "stderr",
     "output_type": "stream",
     "text": [
      "/Users/AdityaS/anaconda/lib/python3.6/site-packages/ipykernel_launcher.py:3: SettingWithCopyWarning: \n",
      "A value is trying to be set on a copy of a slice from a DataFrame.\n",
      "Try using .loc[row_indexer,col_indexer] = value instead\n",
      "\n",
      "See the caveats in the documentation: http://pandas.pydata.org/pandas-docs/stable/indexing.html#indexing-view-versus-copy\n",
      "  This is separate from the ipykernel package so we can avoid doing imports until\n",
      "/Users/AdityaS/anaconda/lib/python3.6/site-packages/ipykernel_launcher.py:4: SettingWithCopyWarning: \n",
      "A value is trying to be set on a copy of a slice from a DataFrame.\n",
      "Try using .loc[row_indexer,col_indexer] = value instead\n",
      "\n",
      "See the caveats in the documentation: http://pandas.pydata.org/pandas-docs/stable/indexing.html#indexing-view-versus-copy\n",
      "  after removing the cwd from sys.path.\n",
      "/Users/AdityaS/anaconda/lib/python3.6/site-packages/ipykernel_launcher.py:6: SettingWithCopyWarning: \n",
      "A value is trying to be set on a copy of a slice from a DataFrame.\n",
      "Try using .loc[row_indexer,col_indexer] = value instead\n",
      "\n",
      "See the caveats in the documentation: http://pandas.pydata.org/pandas-docs/stable/indexing.html#indexing-view-versus-copy\n",
      "  \n"
     ]
    }
   ],
   "source": [
    "womens_1500m_gold = womens_1500m[womens_1500m['Medal'] == 1]\n",
    "\n",
    "womens_1500m_gold['Result'] = (pd.to_datetime(womens_1500m_gold['Result'], format = \"%M:%S.%f\") - pd.to_datetime('1900-01-01'))\n",
    "womens_1500m_gold['Result'] = womens_1500m_gold['Result'].apply(lambda x: pd.Timedelta.total_seconds(x))\n",
    "\n",
    "womens_1500m_gold['Result'] = pd.to_numeric(womens_1500m_gold['Result'])\n",
    "\n",
    "womens_1500m_slope, womens_1500m_intercept = np.polyfit( womens_1500m_gold['Year'], womens_1500m_gold['Result'], 1)\n",
    "print('Slope: ', womens_1500m_slope, \", Intercept: \", womens_1500m_intercept)"
   ]
  },
  {
   "cell_type": "markdown",
   "metadata": {
    "janus": {
     "all_versions_showing": false,
     "cell_hidden": false,
     "current_version": 0,
     "id": "b6272b6bac7db",
     "named_versions": [],
     "output_hidden": false,
     "show_versions": false,
     "source_hidden": false,
     "versions": []
    }
   },
   "source": [
    "## Mens 4x100 Relay"
   ]
  },
  {
   "cell_type": "code",
   "execution_count": 10,
   "metadata": {
    "ExecuteTime": {
     "end_time": "2019-03-07T22:30:03.330048Z",
     "start_time": "2019-03-07T22:30:03.261065Z"
    },
    "janus": {
     "all_versions_showing": false,
     "cell_hidden": false,
     "current_version": 0,
     "id": "c3641c6aec05b",
     "named_versions": [],
     "output_hidden": false,
     "show_versions": false,
     "source_hidden": false,
     "versions": []
    }
   },
   "outputs": [
    {
     "name": "stdout",
     "output_type": "stream",
     "text": [
      "Slope:  -0.048671529462120305 , Intercept:  134.77079825938117\n"
     ]
    }
   ],
   "source": [
    "mens_relay = mens_relay[mens_relay['Medal'] == 1]\n",
    "mens_relay['Result'] = mens_relay['Result'].str.replace('0:', '')\n",
    "\n",
    "mens_relay['Result'] = (pd.to_datetime(mens_relay['Result'], format = \"%S.%f\") - pd.to_datetime('1900-01-01'))\n",
    "mens_relay['Result'] = mens_relay['Result'].apply(lambda x: pd.Timedelta.total_seconds(x))\n",
    "\n",
    "mens_relay_slope, mens_relay_intercept = np.polyfit( mens_relay['Year'], mens_relay['Result'], 1)\n",
    "print('Slope: ', mens_relay_slope, \", Intercept: \", mens_relay_intercept)"
   ]
  },
  {
   "cell_type": "markdown",
   "metadata": {
    "janus": {
     "all_versions_showing": false,
     "cell_hidden": false,
     "current_version": 0,
     "id": "d05c164d18f7c",
     "named_versions": [],
     "output_hidden": false,
     "show_versions": false,
     "source_hidden": false,
     "versions": []
    }
   },
   "source": [
    "## Womens 4x100 Relay"
   ]
  },
  {
   "cell_type": "code",
   "execution_count": 11,
   "metadata": {
    "ExecuteTime": {
     "end_time": "2019-03-07T22:30:03.406840Z",
     "start_time": "2019-03-07T22:30:03.343946Z"
    },
    "janus": {
     "all_versions_showing": false,
     "cell_hidden": false,
     "current_version": 0,
     "id": "a00be1ccfcdf1",
     "named_versions": [],
     "output_hidden": false,
     "show_versions": false,
     "source_hidden": false,
     "versions": []
    }
   },
   "outputs": [
    {
     "name": "stdout",
     "output_type": "stream",
     "text": [
      "Slope:  -0.07907833970009617 , Intercept:  199.7074582359299\n"
     ]
    }
   ],
   "source": [
    "womens_relay = womens_relay[womens_relay['Medal'] == 1]\n",
    "\n",
    "womens_relay['Result'] = (pd.to_datetime(womens_relay['Result'], format = \"%S.%f\") - pd.to_datetime('1900-01-01'))\n",
    "womens_relay['Result'] = womens_relay['Result'].apply(lambda x: pd.Timedelta.total_seconds(x))\n",
    "\n",
    "womens_relay_slope, womens_relay_intercept = np.polyfit( womens_relay['Year'], womens_relay['Result'], 1)\n",
    "print('Slope: ', womens_relay_slope, \", Intercept: \", womens_relay_intercept)"
   ]
  },
  {
   "cell_type": "markdown",
   "metadata": {
    "janus": {
     "all_versions_showing": false,
     "cell_hidden": false,
     "current_version": 0,
     "id": "852563f9919aa",
     "named_versions": [],
     "output_hidden": false,
     "show_versions": false,
     "source_hidden": false,
     "versions": []
    }
   },
   "source": [
    "## Mens High Jump"
   ]
  },
  {
   "cell_type": "code",
   "execution_count": 12,
   "metadata": {
    "ExecuteTime": {
     "end_time": "2019-03-07T22:30:03.478789Z",
     "start_time": "2019-03-07T22:30:03.413913Z"
    },
    "janus": {
     "all_versions_showing": false,
     "cell_hidden": false,
     "current_version": 0,
     "id": "b4d63fe0bc0bd",
     "named_versions": [],
     "output_hidden": false,
     "show_versions": false,
     "source_hidden": false,
     "versions": []
    }
   },
   "outputs": [
    {
     "name": "stdout",
     "output_type": "stream",
     "text": [
      "Slope:  0.005045386559389362 , Intercept:  -7.738421785548537\n"
     ]
    }
   ],
   "source": [
    "mens_high_jump = mens_high_jump[mens_high_jump['Medal'] == 1]\n",
    "mens_high_jump['Result'] = pd.to_numeric(mens_high_jump['Result'])\n",
    "\n",
    "mens_high_jump_slope, mens_high_jump_intercept = np.polyfit( mens_high_jump['Year'], mens_high_jump['Result'], 1)\n",
    "print('Slope: ', mens_high_jump_slope, \", Intercept: \", mens_high_jump_intercept)"
   ]
  },
  {
   "cell_type": "markdown",
   "metadata": {
    "janus": {
     "all_versions_showing": false,
     "cell_hidden": false,
     "current_version": 0,
     "id": "4798f4104837b",
     "named_versions": [],
     "output_hidden": false,
     "show_versions": false,
     "source_hidden": false,
     "versions": []
    }
   },
   "source": [
    "## Womens High Jump"
   ]
  },
  {
   "cell_type": "code",
   "execution_count": 13,
   "metadata": {
    "ExecuteTime": {
     "end_time": "2019-03-07T22:30:03.541368Z",
     "start_time": "2019-03-07T22:30:03.481276Z"
    },
    "janus": {
     "all_versions_showing": false,
     "cell_hidden": false,
     "current_version": 0,
     "id": "181d6458f77ed",
     "named_versions": [],
     "output_hidden": false,
     "show_versions": false,
     "source_hidden": false,
     "versions": []
    }
   },
   "outputs": [
    {
     "name": "stdout",
     "output_type": "stream",
     "text": [
      "Slope:  0.00545584862385327 , Intercept:  -8.896517584097975\n"
     ]
    }
   ],
   "source": [
    "womens_high_jump = womens_high_jump[womens_high_jump['Medal'] == 1]\n",
    "womens_high_jump.at[2166, 'Result'] = 1.97\n",
    "womens_high_jump['Result'] = pd.to_numeric(womens_high_jump['Result'])\n",
    "\n",
    "womens_high_jump_slope, womens_high_jump_intercept = np.polyfit( womens_high_jump['Year'], womens_high_jump['Result'], 1)\n",
    "print('Slope: ', womens_high_jump_slope, \", Intercept: \", womens_high_jump_intercept)"
   ]
  },
  {
   "cell_type": "markdown",
   "metadata": {
    "janus": {
     "all_versions_showing": false,
     "cell_hidden": false,
     "current_version": 0,
     "id": "d6e94b2f70cf3",
     "named_versions": [],
     "output_hidden": false,
     "show_versions": false,
     "source_hidden": false,
     "versions": []
    }
   },
   "source": [
    "## Mens Javelin"
   ]
  },
  {
   "cell_type": "code",
   "execution_count": 14,
   "metadata": {
    "ExecuteTime": {
     "end_time": "2019-03-07T22:30:03.598609Z",
     "start_time": "2019-03-07T22:30:03.544216Z"
    },
    "janus": {
     "all_versions_showing": false,
     "cell_hidden": false,
     "current_version": 0,
     "id": "b4d63fe0bc0bd",
     "named_versions": [],
     "output_hidden": false,
     "show_versions": false,
     "source_hidden": false,
     "versions": []
    },
    "scrolled": true
   },
   "outputs": [
    {
     "name": "stdout",
     "output_type": "stream",
     "text": [
      "Slope:  0.3024389671361496 , Intercept:  -514.8855399061022\n"
     ]
    }
   ],
   "source": [
    "mens_javelin = mens_javelin[mens_javelin['Medal'] == 1]\n",
    "mens_javelin.at[1263, 'Result'] = 90.30\n",
    "mens_javelin['Result'] = pd.to_numeric(mens_javelin['Result'])\n",
    "\n",
    "mens_javelin_slope, mens_javelin_intercept = np.polyfit( mens_javelin['Year'], mens_javelin['Result'], 1)\n",
    "print('Slope: ', mens_javelin_slope, \", Intercept: \", mens_javelin_intercept)"
   ]
  },
  {
   "cell_type": "markdown",
   "metadata": {
    "janus": {
     "all_versions_showing": false,
     "cell_hidden": false,
     "current_version": 0,
     "id": "3c194c6818d0e",
     "named_versions": [],
     "output_hidden": false,
     "show_versions": false,
     "source_hidden": false,
     "versions": []
    }
   },
   "source": [
    "## Womens Javelin"
   ]
  },
  {
   "cell_type": "code",
   "execution_count": 15,
   "metadata": {
    "ExecuteTime": {
     "end_time": "2019-03-07T22:30:03.659926Z",
     "start_time": "2019-03-07T22:30:03.608777Z"
    },
    "janus": {
     "all_versions_showing": false,
     "cell_hidden": false,
     "current_version": 0,
     "id": "181d6458f77ed",
     "named_versions": [],
     "output_hidden": false,
     "show_versions": false,
     "source_hidden": false,
     "versions": []
    },
    "scrolled": true
   },
   "outputs": [
    {
     "name": "stdout",
     "output_type": "stream",
     "text": [
      "Slope:  0.3336552083333353 , Intercept:  -598.3696166666704\n"
     ]
    }
   ],
   "source": [
    "womens_javelin = womens_javelin[womens_javelin['Medal'] == 1]\n",
    "\n",
    "womens_javelin['Result'] = pd.to_numeric(womens_javelin['Result'])\n",
    "\n",
    "womens_javelin_slope, womens_javelin_intercept = np.polyfit( womens_javelin['Year'], womens_javelin['Result'], 1)\n",
    "print('Slope: ', womens_javelin_slope, \", Intercept: \", womens_javelin_intercept)"
   ]
  },
  {
   "cell_type": "code",
   "execution_count": 16,
   "metadata": {
    "ExecuteTime": {
     "end_time": "2019-03-07T22:30:03.747914Z",
     "start_time": "2019-03-07T22:30:03.666641Z"
    },
    "janus": {
     "all_versions_showing": false,
     "cell_hidden": false,
     "current_version": 0,
     "id": "4396c4a1b2fd5",
     "named_versions": [],
     "output_hidden": false,
     "show_versions": false,
     "source_hidden": false,
     "versions": []
    }
   },
   "outputs": [
    {
     "name": "stdout",
     "output_type": "stream",
     "text": [
      "Slope:  0.08021636049147125 , Intercept:  -138.71410020279208\n"
     ]
    }
   ],
   "source": [
    "mens_shot_put = mens_shot_put[mens_shot_put['Medal'] == 1]\n",
    "\n",
    "mens_shot_put['Result'] = pd.to_numeric(mens_shot_put['Result'])\n",
    "\n",
    "mens_shot_put_slope, mens_shot_put_intercept = np.polyfit( mens_shot_put['Year'], mens_shot_put['Result'], 1)\n",
    "print('Slope: ', mens_shot_put_slope, \", Intercept: \", mens_shot_put_intercept)"
   ]
  },
  {
   "cell_type": "code",
   "execution_count": 17,
   "metadata": {
    "ExecuteTime": {
     "end_time": "2019-03-07T22:30:03.847283Z",
     "start_time": "2019-03-07T22:30:03.767680Z"
    },
    "janus": {
     "all_versions_showing": false,
     "cell_hidden": false,
     "current_version": 0,
     "id": "b3873451cfa",
     "named_versions": [],
     "output_hidden": false,
     "show_versions": false,
     "source_hidden": false,
     "versions": []
    }
   },
   "outputs": [
    {
     "name": "stdout",
     "output_type": "stream",
     "text": [
      "Slope:  0.08021636049147125 , Intercept:  -138.71410020279208\n"
     ]
    }
   ],
   "source": [
    "womens_shot_put = womens_shot_put[womens_shot_put['Medal'] == 1]\n",
    "\n",
    "womens_shot_put['Result'] = pd.to_numeric(womens_shot_put['Result'])\n",
    "\n",
    "womens_shot_put_slope, womens_shot_put_intercept = np.polyfit( womens_shot_put['Year'], womens_shot_put['Result'], 1)\n",
    "print('Slope: ', womens_shot_put_slope, \", Intercept: \", womens_shot_put_intercept)"
   ]
  }
 ],
 "metadata": {
  "janus": {
   "filepaths": [
    [
     "e29fb540",
     1547590409700,
     1547590508170
    ],
    [
     "eca69024",
     1549407467335,
     1551997796227
    ]
   ],
   "janus_markers": [],
   "track_history": true
  },
  "kernelspec": {
   "display_name": "Python 3",
   "language": "python",
   "name": "python3"
  },
  "language_info": {
   "codemirror_mode": {
    "name": "ipython",
    "version": 3
   },
   "file_extension": ".py",
   "mimetype": "text/x-python",
   "name": "python",
   "nbconvert_exporter": "python",
   "pygments_lexer": "ipython3",
   "version": "3.7.2"
  },
  "toc": {
   "base_numbering": 1,
   "nav_menu": {},
   "number_sections": true,
   "sideBar": true,
   "skip_h1_title": false,
   "title_cell": "Table of Contents",
   "title_sidebar": "Contents",
   "toc_cell": false,
   "toc_position": {},
   "toc_section_display": true,
   "toc_window_display": false
  }
 },
 "nbformat": 4,
 "nbformat_minor": 2
}
